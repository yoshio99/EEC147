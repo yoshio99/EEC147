{
 "cells": [
  {
   "cell_type": "markdown",
   "metadata": {},
   "source": [
    "# Fully connected networks\n",
    "\n",
    "In the previous notebook, you implemented a simple two-layer neural network class.  However, this class is not modular.  If you wanted to change the number of layers, you would need to write a new loss and gradient function.  If you wanted to optimize the network with different optimizers, you'd need to write new training functions.  If you wanted to incorporate regularizations, you'd have to modify the loss and gradient function.  \n",
    "\n",
    "Instead of having to modify functions each time, for the rest of the class, we'll work in a more modular framework where we define forward and backward layers that calculate losses and gradients respectively.  Since the forward and backward layers share intermediate values that are useful for calculating both the loss and the gradient, we'll also have these function return \"caches\" which store useful intermediate values.\n",
    "\n",
    "The goal is that through this modular design, we can build different sized neural networks for various applications.\n",
    "\n",
    "In this HW #3, we'll define the basic architecture, and in HW #4, we'll build on this framework to implement different optimizers and regularizations (like BatchNorm and Dropout).\n",
    "\n",
    "CS231n has built a solid API for building these modular frameworks and training them, and we will use their very well implemented framework as opposed to \"reinventing the wheel.\"  This includes using their Solver, various utility functions, and their layer structure.  This also includes nndl.fc_net, nndl.layers, and nndl.layer_utils.  As in prior assignments, we thank Serena Yeung & Justin Johnson for permission to use code written for the CS 231n class (cs231n.stanford.edu).  "
   ]
  },
  {
   "cell_type": "markdown",
   "metadata": {},
   "source": [
    "## Modular layers\n",
    "\n",
    "This notebook will build modular layers in the following manner.  First, there will be a forward pass for a given layer with inputs (`x`) and return the output of that layer (`out`) as well as cached variables (`cache`) that will be used to calculate the gradient in the backward pass.\n",
    "\n",
    "```python\n",
    "def layer_forward(x, w):\n",
    "  \"\"\" Receive inputs x and weights w \"\"\"\n",
    "  # Do some computations ...\n",
    "  z = # ... some intermediate value\n",
    "  # Do some more computations ...\n",
    "  out = # the output\n",
    "   \n",
    "  cache = (x, w, z, out) # Values we need to compute gradients\n",
    "   \n",
    "  return out, cache\n",
    "```\n",
    "\n",
    "The backward pass will receive upstream derivatives and the `cache` object, and will return gradients with respect to the inputs and weights, like this:\n",
    "\n",
    "```python\n",
    "def layer_backward(dout, cache):\n",
    "  \"\"\"\n",
    "  Receive derivative of loss with respect to outputs and cache,\n",
    "  and compute derivative with respect to inputs.\n",
    "  \"\"\"\n",
    "  # Unpack cache values\n",
    "  x, w, z, out = cache\n",
    "  \n",
    "  # Use values in cache to compute derivatives\n",
    "  dx = # Derivative of loss with respect to x\n",
    "  dw = # Derivative of loss with respect to w\n",
    "  \n",
    "  return dx, dw\n",
    "```"
   ]
  },
  {
   "cell_type": "code",
   "execution_count": 1,
   "metadata": {},
   "outputs": [],
   "source": [
    "## Import and setups\n",
    "\n",
    "import time\n",
    "import numpy as np\n",
    "import matplotlib.pyplot as plt\n",
    "from nndl.fc_net import *\n",
    "from cs231n.data_utils import get_CIFAR10_data\n",
    "from cs231n.gradient_check import eval_numerical_gradient, eval_numerical_gradient_array\n",
    "from cs231n.solver import Solver\n",
    "\n",
    "import os\n",
    "#alias kk os._exit(0)\n",
    "\n",
    "%matplotlib inline\n",
    "plt.rcParams['figure.figsize'] = (10.0, 8.0) # set default size of plots\n",
    "plt.rcParams['image.interpolation'] = 'nearest'\n",
    "plt.rcParams['image.cmap'] = 'gray'\n",
    "\n",
    "# for auto-reloading external modules\n",
    "# see http://stackoverflow.com/questions/1907993/autoreload-of-modules-in-ipython\n",
    "%load_ext autoreload\n",
    "%autoreload 2\n",
    "\n",
    "def rel_error(x, y):\n",
    "  \"\"\" returns relative error \"\"\"\n",
    "  return np.max(np.abs(x - y) / (np.maximum(1e-8, np.abs(x) + np.abs(y))))"
   ]
  },
  {
   "cell_type": "code",
   "execution_count": 2,
   "metadata": {},
   "outputs": [
    {
     "name": "stdout",
     "output_type": "stream",
     "text": [
      "X_train: (49000, 3, 32, 32) \n",
      "y_train: (49000,) \n",
      "X_val: (1000, 3, 32, 32) \n",
      "y_val: (1000,) \n",
      "X_test: (1000, 3, 32, 32) \n",
      "y_test: (1000,) \n"
     ]
    }
   ],
   "source": [
    "# Load the (preprocessed) CIFAR10 data.\n",
    "\n",
    "data = get_CIFAR10_data()\n",
    "for k in data.keys():\n",
    "  print('{}: {} '.format(k, data[k].shape))"
   ]
  },
  {
   "cell_type": "markdown",
   "metadata": {},
   "source": [
    "## Linear layers\n",
    "\n",
    "In this section, we'll implement the forward and backward pass for the linear layers.\n",
    "\n",
    "The linear layer forward pass is the function `affine_forward` in `nndl/layers.py` and the backward pass is `affine_backward`.\n",
    "\n",
    "After you have implemented these, test your implementation by running the cell below."
   ]
  },
  {
   "cell_type": "markdown",
   "metadata": {},
   "source": [
    "### Affine layer forward pass\n",
    "\n",
    "Implement `affine_forward` and then test your code by running the following cell."
   ]
  },
  {
   "cell_type": "code",
   "execution_count": 3,
   "metadata": {},
   "outputs": [
    {
     "name": "stdout",
     "output_type": "stream",
     "text": [
      "Testing affine_forward function:\n",
      "difference: 9.769849468192957e-10\n"
     ]
    }
   ],
   "source": [
    "# Test the affine_forward function\n",
    "\n",
    "num_inputs = 2\n",
    "input_shape = (4, 5, 6)\n",
    "output_dim = 3\n",
    "\n",
    "input_size = num_inputs * np.prod(input_shape)\n",
    "weight_size = output_dim * np.prod(input_shape)\n",
    "\n",
    "x = np.linspace(-0.1, 0.5, num=input_size).reshape(num_inputs, *input_shape)\n",
    "w = np.linspace(-0.2, 0.3, num=weight_size).reshape(np.prod(input_shape), output_dim)\n",
    "b = np.linspace(-0.3, 0.1, num=output_dim)\n",
    "\n",
    "out, _ = affine_forward(x, w, b)\n",
    "correct_out = np.array([[ 1.49834967,  1.70660132,  1.91485297],\n",
    "                        [ 3.25553199,  3.5141327,   3.77273342]])\n",
    "\n",
    "# Compare your output with ours. The error should be around 1e-9.\n",
    "print('Testing affine_forward function:')\n",
    "print('difference: {}'.format(rel_error(out, correct_out)))"
   ]
  },
  {
   "cell_type": "markdown",
   "metadata": {},
   "source": [
    "### Affine layer backward pass\n",
    "\n",
    "Implement `affine_backward` and then test your code by running the following cell."
   ]
  },
  {
   "cell_type": "code",
   "execution_count": 4,
   "metadata": {},
   "outputs": [
    {
     "name": "stdout",
     "output_type": "stream",
     "text": [
      "Testing affine_backward function:\n",
      "dx error: 2.4044848617860034e-10\n",
      "dw error: 9.176038636634047e-11\n",
      "db error: 5.510013589521338e-12\n"
     ]
    }
   ],
   "source": [
    "# Test the affine_backward function\n",
    "\n",
    "x = np.random.randn(10, 2, 3)\n",
    "w = np.random.randn(6, 5)\n",
    "b = np.random.randn(5)\n",
    "dout = np.random.randn(10, 5)\n",
    "\n",
    "dx_num = eval_numerical_gradient_array(lambda x: affine_forward(x, w, b)[0], x, dout)\n",
    "dw_num = eval_numerical_gradient_array(lambda w: affine_forward(x, w, b)[0], w, dout)\n",
    "db_num = eval_numerical_gradient_array(lambda b: affine_forward(x, w, b)[0], b, dout)\n",
    "\n",
    "_, cache = affine_forward(x, w, b)\n",
    "dx, dw, db = affine_backward(dout, cache)\n",
    "\n",
    "# The error should be around 1e-10\n",
    "print('Testing affine_backward function:')\n",
    "print('dx error: {}'.format(rel_error(dx_num, dx)))\n",
    "print('dw error: {}'.format(rel_error(dw_num, dw)))\n",
    "print('db error: {}'.format(rel_error(db_num, db)))"
   ]
  },
  {
   "cell_type": "markdown",
   "metadata": {},
   "source": [
    "## Activation layers\n",
    "\n",
    "In this section you'll implement the ReLU activation."
   ]
  },
  {
   "cell_type": "markdown",
   "metadata": {},
   "source": [
    "### ReLU forward pass\n",
    "\n",
    "Implement the `relu_forward` function in `nndl/layers.py` and then test your code by running the following cell."
   ]
  },
  {
   "cell_type": "code",
   "execution_count": 5,
   "metadata": {},
   "outputs": [
    {
     "name": "stdout",
     "output_type": "stream",
     "text": [
      "Testing relu_forward function:\n",
      "difference: 4.999999798022158e-08\n"
     ]
    }
   ],
   "source": [
    "# Test the relu_forward function\n",
    "\n",
    "x = np.linspace(-0.5, 0.5, num=12).reshape(3, 4)\n",
    "\n",
    "out, _ = relu_forward(x)\n",
    "correct_out = np.array([[ 0.,          0.,          0.,          0.,        ],\n",
    "                        [ 0.,          0.,          0.04545455,  0.13636364,],\n",
    "                        [ 0.22727273,  0.31818182,  0.40909091,  0.5,       ]])\n",
    "\n",
    "# Compare your output with ours. The error should be around 1e-8\n",
    "print('Testing relu_forward function:')\n",
    "print('difference: {}'.format(rel_error(out, correct_out)))"
   ]
  },
  {
   "cell_type": "markdown",
   "metadata": {},
   "source": [
    "### ReLU backward pass\n",
    "Implement the `relu_backward` function in `nndl/layers.py` and then test your code by running the following cell."
   ]
  },
  {
   "cell_type": "code",
   "execution_count": 6,
   "metadata": {},
   "outputs": [
    {
     "name": "stdout",
     "output_type": "stream",
     "text": [
      "Testing relu_backward function:\n",
      "dx error: 3.275622185399769e-12\n"
     ]
    }
   ],
   "source": [
    "x = np.random.randn(10, 10)\n",
    "dout = np.random.randn(*x.shape)\n",
    "\n",
    "dx_num = eval_numerical_gradient_array(lambda x: relu_forward(x)[0], x, dout)\n",
    "\n",
    "_, cache = relu_forward(x)\n",
    "dx = relu_backward(dout, cache)\n",
    "\n",
    "# The error should be around 1e-12\n",
    "print('Testing relu_backward function:')\n",
    "print('dx error: {}'.format(rel_error(dx_num, dx)))"
   ]
  },
  {
   "cell_type": "markdown",
   "metadata": {},
   "source": [
    "## Combining the affine and ReLU layers\n",
    "\n",
    "Often times, an affine layer will be followed by a ReLU layer. So let's make one that puts them together.  Layers that are combined are stored in `nndl/layer_utils.py`.  "
   ]
  },
  {
   "cell_type": "markdown",
   "metadata": {},
   "source": [
    "### Affine-ReLU layers\n",
    "We've implemented `affine_relu_forward()` and `affine_relu_backward` in ``nndl/layer_utils.py``.  Take a look at them to make sure you understand what's going on.  Then run the following cell to ensure its implemented correctly."
   ]
  },
  {
   "cell_type": "code",
   "execution_count": 7,
   "metadata": {},
   "outputs": [
    {
     "name": "stdout",
     "output_type": "stream",
     "text": [
      "Testing affine_relu_forward and affine_relu_backward:\n",
      "dx error: 3.6734225342281794e-11\n",
      "dw error: 9.29015886858038e-11\n",
      "db error: 1.892891935010288e-11\n"
     ]
    }
   ],
   "source": [
    "from nndl.layer_utils import affine_relu_forward, affine_relu_backward\n",
    "\n",
    "x = np.random.randn(2, 3, 4)\n",
    "w = np.random.randn(12, 10)\n",
    "b = np.random.randn(10)\n",
    "dout = np.random.randn(2, 10)\n",
    "\n",
    "out, cache = affine_relu_forward(x, w, b)\n",
    "dx, dw, db = affine_relu_backward(dout, cache)\n",
    "\n",
    "dx_num = eval_numerical_gradient_array(lambda x: affine_relu_forward(x, w, b)[0], x, dout)\n",
    "dw_num = eval_numerical_gradient_array(lambda w: affine_relu_forward(x, w, b)[0], w, dout)\n",
    "db_num = eval_numerical_gradient_array(lambda b: affine_relu_forward(x, w, b)[0], b, dout)\n",
    "\n",
    "print('Testing affine_relu_forward and affine_relu_backward:')\n",
    "print('dx error: {}'.format(rel_error(dx_num, dx)))\n",
    "print('dw error: {}'.format(rel_error(dw_num, dw)))\n",
    "print('db error: {}'.format(rel_error(db_num, db)))"
   ]
  },
  {
   "cell_type": "markdown",
   "metadata": {},
   "source": [
    "## Softmax and SVM losses\n",
    "\n",
    "You've already implemented these, so we have written these in `layers.py`.  The following code will ensure they are working correctly."
   ]
  },
  {
   "cell_type": "code",
   "execution_count": 8,
   "metadata": {},
   "outputs": [
    {
     "name": "stdout",
     "output_type": "stream",
     "text": [
      "Testing svm_loss:\n",
      "loss: 8.999922827808838\n",
      "dx error: 1.4021566006651672e-09\n",
      "\n",
      "Testing softmax_loss:\n",
      "loss: 2.3025778104628527\n",
      "dx error: 7.57379845455411e-09\n"
     ]
    }
   ],
   "source": [
    "num_classes, num_inputs = 10, 50\n",
    "x = 0.001 * np.random.randn(num_inputs, num_classes)\n",
    "y = np.random.randint(num_classes, size=num_inputs)\n",
    "\n",
    "dx_num = eval_numerical_gradient(lambda x: svm_loss(x, y)[0], x, verbose=False)\n",
    "loss, dx = svm_loss(x, y)\n",
    "\n",
    "# Test svm_loss function. Loss should be around 9 and dx error should be 1e-9\n",
    "print('Testing svm_loss:')\n",
    "print('loss: {}'.format(loss))\n",
    "print('dx error: {}'.format(rel_error(dx_num, dx)))\n",
    "\n",
    "dx_num = eval_numerical_gradient(lambda x: softmax_loss(x, y)[0], x, verbose=False)\n",
    "loss, dx = softmax_loss(x, y)\n",
    "\n",
    "# Test softmax_loss function. Loss should be 2.3 and dx error should be 1e-8\n",
    "print('\\nTesting softmax_loss:')\n",
    "print('loss: {}'.format(loss))\n",
    "print('dx error: {}'.format(rel_error(dx_num, dx)))"
   ]
  },
  {
   "cell_type": "markdown",
   "metadata": {},
   "source": [
    "## Implementation of a two-layer NN\n",
    "\n",
    "In `nndl/fc_net.py`, implement the class `TwoLayerNet` which uses the layers you made here.  When you have finished, the following cell will test your implementation."
   ]
  },
  {
   "cell_type": "code",
   "execution_count": 31,
   "metadata": {},
   "outputs": [
    {
     "name": "stdout",
     "output_type": "stream",
     "text": [
      "Testing initialization ... \n",
      "Testing test-time forward pass ... \n",
      "Testing training loss (no regularization)\n",
      "Running numeric gradient check with reg = 0.0\n",
      "W1 relative error: 1.8336562786695002e-08\n",
      "W2 relative error: 3.201560569143183e-10\n",
      "b1 relative error: 9.828315204644842e-09\n",
      "b2 relative error: 4.329134954569865e-10\n",
      "Running numeric gradient check with reg = 0.7\n",
      "W1 relative error: 2.5279152310200606e-07\n",
      "W2 relative error: 2.8508510893102143e-08\n",
      "b1 relative error: 1.564679947504764e-08\n",
      "b2 relative error: 9.089617896905665e-10\n"
     ]
    }
   ],
   "source": [
    "N, D, H, C = 3, 5, 50, 7\n",
    "X = np.random.randn(N, D)\n",
    "y = np.random.randint(C, size=N)\n",
    "\n",
    "std = 1e-2\n",
    "model = TwoLayerNet(input_dim=D, hidden_dims=H, num_classes=C, weight_scale=std)\n",
    "\n",
    "print('Testing initialization ... ')\n",
    "W1_std = abs(model.params['W1'].std() - std)\n",
    "b1 = model.params['b1']\n",
    "W2_std = abs(model.params['W2'].std() - std)\n",
    "b2 = model.params['b2']\n",
    "assert W1_std < std / 10, 'First layer weights do not seem right'\n",
    "assert np.all(b1 == 0), 'First layer biases do not seem right'\n",
    "assert W2_std < std / 10, 'Second layer weights do not seem right'\n",
    "assert np.all(b2 == 0), 'Second layer biases do not seem right'\n",
    "\n",
    "print('Testing test-time forward pass ... ')\n",
    "model.params['W1'] = np.linspace(-0.7, 0.3, num=D*H).reshape(D, H)\n",
    "model.params['b1'] = np.linspace(-0.1, 0.9, num=H)\n",
    "model.params['W2'] = np.linspace(-0.3, 0.4, num=H*C).reshape(H, C)\n",
    "model.params['b2'] = np.linspace(-0.9, 0.1, num=C)\n",
    "X = np.linspace(-5.5, 4.5, num=N*D).reshape(D, N).T\n",
    "scores = model.loss(X)\n",
    "correct_scores = np.asarray(\n",
    "  [[11.53165108,  12.2917344,   13.05181771,  13.81190102,  14.57198434, 15.33206765,  16.09215096],\n",
    "   [12.05769098,  12.74614105,  13.43459113,  14.1230412,   14.81149128, 15.49994135,  16.18839143],\n",
    "   [12.58373087,  13.20054771,  13.81736455,  14.43418138,  15.05099822, 15.66781506,  16.2846319 ]])\n",
    "scores_diff = np.abs(scores - correct_scores).sum()\n",
    "assert scores_diff < 1e-6, 'Problem with test-time forward pass'\n",
    "\n",
    "print('Testing training loss (no regularization)')\n",
    "y = np.asarray([0, 5, 1])\n",
    "loss, grads = model.loss(X, y)\n",
    "correct_loss = 3.4702243556\n",
    "assert abs(loss - correct_loss) < 1e-10, 'Problem with training-time loss'\n",
    "\n",
    "model.reg = 1.0\n",
    "loss, grads = model.loss(X, y)\n",
    "correct_loss = 26.5948426952\n",
    "assert abs(loss - correct_loss) < 1e-10, 'Problem with regularization loss'\n",
    "\n",
    "for reg in [0.0, 0.7]:\n",
    "  print('Running numeric gradient check with reg = {}'.format(reg))\n",
    "  model.reg = reg\n",
    "  loss, grads = model.loss(X, y)\n",
    "\n",
    "  for name in sorted(grads):\n",
    "    f = lambda _: model.loss(X, y)[0]\n",
    "    grad_num = eval_numerical_gradient(f, model.params[name], verbose=False)\n",
    "    print('{} relative error: {}'.format(name, rel_error(grad_num, grads[name])))"
   ]
  },
  {
   "cell_type": "markdown",
   "metadata": {},
   "source": [
    "## Solver \n",
    "\n",
    "We will now use the cs231n Solver class to train these networks.  Familiarize yourself with the API in `cs231n/solver.py`.  After you have done so, declare an instance of a TwoLayerNet with 200 units and then train it with the Solver.  Choose parameters so that your validation accuracy is at least 40%."
   ]
  },
  {
   "cell_type": "code",
   "execution_count": 32,
   "metadata": {
    "scrolled": false
   },
   "outputs": [
    {
     "name": "stdout",
     "output_type": "stream",
     "text": [
      "(Iteration 1 / 4900) loss: 2.595383\n",
      "(Epoch 0 / 10) train acc: 0.140000; val_acc: 0.130000\n",
      "(Iteration 101 / 4900) loss: 2.136921\n",
      "(Iteration 201 / 4900) loss: 1.887891\n",
      "(Iteration 301 / 4900) loss: 1.813922\n",
      "(Iteration 401 / 4900) loss: 1.744027\n",
      "(Epoch 1 / 10) train acc: 0.412000; val_acc: 0.422000\n",
      "(Iteration 501 / 4900) loss: 1.693952\n",
      "(Iteration 601 / 4900) loss: 1.527637\n",
      "(Iteration 701 / 4900) loss: 1.760505\n",
      "(Iteration 801 / 4900) loss: 1.819528\n",
      "(Iteration 901 / 4900) loss: 1.640347\n",
      "(Epoch 2 / 10) train acc: 0.474000; val_acc: 0.466000\n",
      "(Iteration 1001 / 4900) loss: 1.572076\n",
      "(Iteration 1101 / 4900) loss: 1.675223\n",
      "(Iteration 1201 / 4900) loss: 1.614312\n",
      "(Iteration 1301 / 4900) loss: 1.715534\n",
      "(Iteration 1401 / 4900) loss: 1.655998\n",
      "(Epoch 3 / 10) train acc: 0.488000; val_acc: 0.485000\n",
      "(Iteration 1501 / 4900) loss: 1.470449\n",
      "(Iteration 1601 / 4900) loss: 1.595506\n",
      "(Iteration 1701 / 4900) loss: 1.726897\n",
      "(Iteration 1801 / 4900) loss: 1.577069\n",
      "(Iteration 1901 / 4900) loss: 1.547952\n",
      "(Epoch 4 / 10) train acc: 0.544000; val_acc: 0.476000\n",
      "(Iteration 2001 / 4900) loss: 1.645776\n",
      "(Iteration 2101 / 4900) loss: 1.792156\n",
      "(Iteration 2201 / 4900) loss: 1.515278\n",
      "(Iteration 2301 / 4900) loss: 1.590503\n",
      "(Iteration 2401 / 4900) loss: 1.500368\n",
      "(Epoch 5 / 10) train acc: 0.530000; val_acc: 0.478000\n",
      "(Iteration 2501 / 4900) loss: 1.722350\n",
      "(Iteration 2601 / 4900) loss: 1.641699\n",
      "(Iteration 2701 / 4900) loss: 1.573731\n",
      "(Iteration 2801 / 4900) loss: 1.383326\n",
      "(Iteration 2901 / 4900) loss: 1.668734\n",
      "(Epoch 6 / 10) train acc: 0.495000; val_acc: 0.489000\n",
      "(Iteration 3001 / 4900) loss: 1.592801\n",
      "(Iteration 3101 / 4900) loss: 1.565971\n",
      "(Iteration 3201 / 4900) loss: 1.470747\n",
      "(Iteration 3301 / 4900) loss: 1.459653\n",
      "(Iteration 3401 / 4900) loss: 1.548899\n",
      "(Epoch 7 / 10) train acc: 0.523000; val_acc: 0.516000\n",
      "(Iteration 3501 / 4900) loss: 1.376171\n",
      "(Iteration 3601 / 4900) loss: 1.510396\n",
      "(Iteration 3701 / 4900) loss: 1.625927\n",
      "(Iteration 3801 / 4900) loss: 1.469101\n",
      "(Iteration 3901 / 4900) loss: 1.351836\n",
      "(Epoch 8 / 10) train acc: 0.495000; val_acc: 0.486000\n",
      "(Iteration 4001 / 4900) loss: 1.416609\n",
      "(Iteration 4101 / 4900) loss: 1.609598\n",
      "(Iteration 4201 / 4900) loss: 1.352922\n",
      "(Iteration 4301 / 4900) loss: 1.467611\n",
      "(Iteration 4401 / 4900) loss: 1.285415\n",
      "(Epoch 9 / 10) train acc: 0.592000; val_acc: 0.512000\n",
      "(Iteration 4501 / 4900) loss: 1.403088\n",
      "(Iteration 4601 / 4900) loss: 1.450915\n",
      "(Iteration 4701 / 4900) loss: 1.566626\n",
      "(Iteration 4801 / 4900) loss: 1.340125\n",
      "(Epoch 10 / 10) train acc: 0.556000; val_acc: 0.507000\n"
     ]
    }
   ],
   "source": [
    "model = TwoLayerNet()\n",
    "solver = None\n",
    "\n",
    "# ================================================================ #\n",
    "# YOUR CODE HERE:\n",
    "#   Declare an instance of a TwoLayerNet and then train \n",
    "#   it with the Solver. Choose hyperparameters so that your validation \n",
    "#   accuracy is at least 40%.  We won't have you optimize this further\n",
    "#   since you did it in the previous notebook.\n",
    "#\n",
    "# ================================================================ #\n",
    "model = TwoLayerNet(hidden_dims=190, reg = 1.0)\n",
    "solver = Solver(model, data,\n",
    "                update_rule='sgd',\n",
    "                optim_config={\n",
    "                    'learning_rate': 1e-3,\n",
    "                },\n",
    "                lr_decay=0.95,\n",
    "                num_epochs=10, batch_size=100,\n",
    "                print_every=100)\n",
    "solver.train()\n",
    "\n",
    "# ================================================================ #\n",
    "# END YOUR CODE HERE\n",
    "# ================================================================ #"
   ]
  },
  {
   "cell_type": "code",
   "execution_count": 33,
   "metadata": {},
   "outputs": [
    {
     "data": {
      "image/png": "[encoded data removed]",
      "text/plain": [
       "<Figure size 1080x864 with 2 Axes>"
      ]
     },
     "metadata": {
      "needs_background": "light"
     },
     "output_type": "display_data"
    }
   ],
   "source": [
    "# Run this cell to visualize training loss and train / val accuracy\n",
    "\n",
    "plt.subplot(2, 1, 1)\n",
    "plt.title('Training loss')\n",
    "plt.plot(solver.loss_history, 'o')\n",
    "plt.xlabel('Iteration')\n",
    "\n",
    "plt.subplot(2, 1, 2)\n",
    "plt.title('Accuracy')\n",
    "plt.plot(solver.train_acc_history, '-o', label='train')\n",
    "plt.plot(solver.val_acc_history, '-o', label='val')\n",
    "plt.plot([0.5] * len(solver.val_acc_history), 'k--')\n",
    "plt.xlabel('Epoch')\n",
    "plt.legend(loc='lower right')\n",
    "plt.gcf().set_size_inches(15, 12)\n",
    "plt.show()"
   ]
  },
  {
   "cell_type": "markdown",
   "metadata": {},
   "source": [
    "## Multilayer Neural Network\n",
    "\n",
    "Now, we implement a multi-layer neural network.\n",
    "\n",
    "Read through the `FullyConnectedNet` class in the file `nndl/fc_net.py`.\n",
    "\n",
    "Implement the initialization, the forward pass, and the backward pass.  There will be lines for batchnorm and dropout layers and caches; ignore these all for now.  That'll be in assignment #4."
   ]
  },
  {
   "cell_type": "code",
   "execution_count": 59,
   "metadata": {},
   "outputs": [
    {
     "name": "stdout",
     "output_type": "stream",
     "text": [
      "Running check with reg = 0\n",
      "Initial loss: 2.296327242862925\n",
      "W1 relative error: 1.9434030681243723e-05\n",
      "W2 relative error: 5.429024882665938e-05\n",
      "W3 relative error: 6.092128063335355e-07\n",
      "b1 relative error: 2.2680287521346646e-08\n",
      "b2 relative error: 1.7560194250302877e-07\n",
      "b3 relative error: 1.1947510727830966e-10\n",
      "Running check with reg = 3.14\n",
      "Initial loss: 6.862932118016946\n",
      "W1 relative error: 4.738323095586061e-09\n",
      "W2 relative error: 4.7850151254790694e-08\n",
      "W3 relative error: 4.928621312583812e-09\n",
      "b1 relative error: 4.817212590898326e-08\n",
      "b2 relative error: 2.2839431458289356e-07\n",
      "b3 relative error: 1.8898626873400983e-10\n"
     ]
    }
   ],
   "source": [
    "N, D, H1, H2, C = 2, 15, 20, 30, 10\n",
    "X = np.random.randn(N, D)\n",
    "y = np.random.randint(C, size=(N,))\n",
    "\n",
    "for reg in [0, 3.14]:\n",
    "  print('Running check with reg = {}'.format(reg))\n",
    "  model = FullyConnectedNet([H1, H2], input_dim=D, num_classes=C,\n",
    "                            reg=reg, weight_scale=5e-2, dtype=np.float64)\n",
    "\n",
    "  loss, grads = model.loss(X, y)\n",
    "  print('Initial loss: {}'.format(loss))\n",
    "\n",
    "  for name in sorted(grads):\n",
    "    f = lambda _: model.loss(X, y)[0]\n",
    "    grad_num = eval_numerical_gradient(f, model.params[name], verbose=False, h=1e-5)\n",
    "    print('{} relative error: {}'.format(name, rel_error(grad_num, grads[name])))"
   ]
  },
  {
   "cell_type": "code",
   "execution_count": 65,
   "metadata": {},
   "outputs": [
    {
     "name": "stdout",
     "output_type": "stream",
     "text": [
      "(Iteration 1 / 40) loss: 2.204694\n",
      "(Epoch 0 / 20) train acc: 0.320000; val_acc: 0.100000\n",
      "(Epoch 1 / 20) train acc: 0.360000; val_acc: 0.100000\n",
      "(Epoch 2 / 20) train acc: 0.440000; val_acc: 0.146000\n",
      "(Epoch 3 / 20) train acc: 0.360000; val_acc: 0.143000\n",
      "(Epoch 4 / 20) train acc: 0.620000; val_acc: 0.166000\n",
      "(Epoch 5 / 20) train acc: 0.700000; val_acc: 0.202000\n",
      "(Iteration 11 / 40) loss: 1.142948\n",
      "(Epoch 6 / 20) train acc: 0.780000; val_acc: 0.174000\n",
      "(Epoch 7 / 20) train acc: 0.700000; val_acc: 0.157000\n",
      "(Epoch 8 / 20) train acc: 0.780000; val_acc: 0.165000\n",
      "(Epoch 9 / 20) train acc: 0.860000; val_acc: 0.183000\n",
      "(Epoch 10 / 20) train acc: 0.820000; val_acc: 0.160000\n",
      "(Iteration 21 / 40) loss: 0.361576\n",
      "(Epoch 11 / 20) train acc: 0.860000; val_acc: 0.172000\n",
      "(Epoch 12 / 20) train acc: 0.960000; val_acc: 0.159000\n",
      "(Epoch 13 / 20) train acc: 0.980000; val_acc: 0.186000\n",
      "(Epoch 14 / 20) train acc: 0.960000; val_acc: 0.157000\n",
      "(Epoch 15 / 20) train acc: 0.960000; val_acc: 0.167000\n",
      "(Iteration 31 / 40) loss: 0.084964\n",
      "(Epoch 16 / 20) train acc: 0.960000; val_acc: 0.177000\n",
      "(Epoch 17 / 20) train acc: 1.000000; val_acc: 0.187000\n",
      "(Epoch 18 / 20) train acc: 0.980000; val_acc: 0.183000\n",
      "(Epoch 19 / 20) train acc: 1.000000; val_acc: 0.182000\n",
      "(Epoch 20 / 20) train acc: 1.000000; val_acc: 0.179000\n"
     ]
    },
    {
     "data": {
      "image/png": "[encoded data removed]",
      "text/plain": [
       "<Figure size 720x576 with 1 Axes>"
      ]
     },
     "metadata": {
      "needs_background": "light"
     },
     "output_type": "display_data"
    }
   ],
   "source": [
    "# Use the three layer neural network to overfit a small dataset.\n",
    "\n",
    "num_train = 50\n",
    "small_data = {\n",
    "  'X_train': data['X_train'][:num_train],\n",
    "  'y_train': data['y_train'][:num_train],\n",
    "  'X_val': data['X_val'],\n",
    "  'y_val': data['y_val'],\n",
    "}\n",
    "\n",
    "\n",
    "#### !!!!!!\n",
    "# Play around with the weight_scale and learning_rate so that you can overfit a small dataset.\n",
    "# Your training accuracy should be 1.0 to receive full credit on this part.\n",
    "weight_scale = 1e-2\n",
    "learning_rate = 1e-2\n",
    "\n",
    "model = FullyConnectedNet([100, 100],\n",
    "              weight_scale=weight_scale, dtype=np.float64)\n",
    "solver = Solver(model, small_data,\n",
    "                print_every=10, num_epochs=20, batch_size=25,\n",
    "                update_rule='sgd',\n",
    "                optim_config={\n",
    "                  'learning_rate': learning_rate,\n",
    "                }\n",
    "         )\n",
    "solver.train()\n",
    "\n",
    "plt.plot(solver.loss_history, 'o')\n",
    "plt.title('Training loss history')\n",
    "plt.xlabel('Iteration')\n",
    "plt.ylabel('Training loss')\n",
    "plt.show()"
   ]
  },
  {
   "cell_type": "code",
   "execution_count": 67,
   "metadata": {},
   "outputs": [
    {
     "data": {
      "text/plain": [
       "'\\n  # ================================================================ #\\n  # YOUR CODE HERE:\\n  #   Calculate the output of the forward pass.  Notice the dimensions\\n  #   of w are D x M, which is the transpose of what we did in earlier \\n  #   assignments.\\n  # ================================================================ #\\n  D = x[0].shape\\n  x_reshape = x.reshape(x.shape[0], np.prod(D))\\n  out = np.dot(x_reshape,w) + b\\n  # ================================================================ #\\n  # END YOUR CODE HERE\\n  # ================================================================ #\\n  \\n  \\n  # ================================================================ #\\n  # YOUR CODE HERE:\\n  #   Calculate the gradients for the backward pass.\\n  # ================================================================ #\\n\\n  # dout is N x M\\n  # dx should be N x d1 x ... x dk; it relates to dout through multiplication with w, which is D x M\\n  # dw should be D x M; it relates to dout through multiplication with x, which is N x D after reshaping\\n  # db should be M; it is just the sum over dout examples\\n  D = np.prod(x[0].shape)\\n  x_reshape = x.reshape(x.shape[0], D)\\n  dx = np.dot(dout, w.T)\\n  dx = np.reshape(dx, x.shape) \\n  dw = np.dot(x_reshape.T, dout)\\n  db = np.sum(dout, axis=0)\\n  # ================================================================ #\\n  # END YOUR CODE HERE\\n  # ================================================================ #\\n  \\n  \\n  # ================================================================ #\\n  # YOUR CODE HERE:\\n  #   Implement the ReLU forward pass.\\n  # ================================================================ #\\n\\n  f = lambda x : x * (x > 0)\\n  out = f(x)\\n  # ================================================================ #\\n  # END YOUR CODE HERE\\n  # ================================================================ #\\n  \\n  \\n  # ================================================================ #\\n  # YOUR CODE HERE:\\n  #   Implement the ReLU backward pass\\n  # ================================================================ #\\n\\n  # ReLU directs linearly to those > 0\\n  g = lambda x : (x > 0)\\n  dx = g(x) * dout\\n    \\n  # ================================================================ #\\n  # END YOUR CODE HERE\\n  # ================================================================ #\\n  \\n  \\n    # ================================================================ #\\n    # YOUR CODE HERE:\\n    #   Initialize W1, W2, b1, and b2.  Store these as self.params[\\'W1\\'], \\n    #   self.params[\\'W2\\'], self.params[\\'b1\\'] and self.params[\\'b2\\']. The\\n    #   biases are initialized to zero and the weights are initialized\\n    #   so that each parameter has mean 0 and standard deviation weight_scale.\\n    #   The dimensions of W1 should be (input_dim, hidden_dim) and the\\n    #   dimensions of W2 should be (hidden_dims, num_classes)\\n    # ================================================================ #\\n\\n    self.params = {}\\n    self.params[\\'W1\\'] = weight_scale * np.random.randn(input_dim, hidden_dims)\\n    self.params[\\'b1\\'] = np.zeros(hidden_dims)\\n    self.params[\\'W2\\'] = weight_scale * np.random.randn(hidden_dims, num_classes)\\n    self.params[\\'b2\\'] = np.zeros(num_classes)\\n\\n    # ================================================================ #\\n    # END YOUR CODE HERE\\n    # ================================================================ #\\n    \\n    \\n    # ================================================================ #\\n    # YOUR CODE HERE:\\n    #   Implement the forward pass of the two-layer neural network. Store\\n    #   the class scores as the variable \\'scores\\'.  Be sure to use the layers\\n    #   you prior implemented.\\n    # ================================================================ #    \\n    \\n    a, cache_1 = affine_relu_forward(X, self.params[\\'W1\\'], self.params[\\'b1\\'])\\n    scores, cache_2 = affine_forward(a, self.params[\\'W2\\'], self.params[\\'b2\\'])\\n    # ================================================================ #\\n    # END YOUR CODE HERE\\n    # ================================================================ #\\n    \\n\\n    # ================================================================ #\\n    # YOUR CODE HERE:\\n    #   Implement the backward pass of the two-layer neural net.  Store\\n    #   the loss as the variable \\'loss\\' and store the gradients in the \\n    #   \\'grads\\' dictionary.  For the grads dictionary, grads[\\'W1\\'] holds\\n    #   the gradient for W1, grads[\\'b1\\'] holds the gradient for b1, etc.\\n    #   i.e., grads[k] holds the gradient for self.params[k].\\n    #\\n    #   Add L2 regularization, where there is an added cost 0.5*self.reg*W^2\\n    #   for each W.  Be sure to include the 0.5 multiplying factor to \\n    #   match our implementation.\\n    #\\n    #   And be sure to use the layers you prior implemented.\\n    # ================================================================ #    \\n    loss, grad = softmax_loss(scores, y)\\n    reg_term = 0.5 * self.reg * (np.sum(np.square(self.params[\\'W1\\'])) + np.sum(np.square(self.params[\\'W2\\'])))\\n    loss = loss + reg_term\\n    dx, grads[\\'W2\\'], grads[\\'b2\\'] = affine_backward(grad, cache_2)\\n    _, grads[\\'W1\\'], grads[\\'b1\\'] = affine_relu_backward(dx, cache_1)\\n    grads[\\'W1\\'] = grads[\\'W1\\'] + (self.reg * self.params[\\'W1\\'])\\n    grads[\\'W2\\'] = grads[\\'W2\\'] + (self.reg * self.params[\\'W2\\'])\\n    # ================================================================ #\\n    # END YOUR CODE HERE\\n    # ================================================================ #\\n    \\n    \\n    # ================================================================ #\\n    # YOUR CODE HERE:\\n    #   Initialize all parameters of the network in the self.params dictionary.\\n    #   The weights and biases of layer 1 are W1 and b1; and in general the \\n    #   weights and biases of layer i are Wi and bi. The\\n    #   biases are initialized to zero and the weights are initialized\\n    #   so that each parameter has mean 0 and standard deviation weight_scale.\\n    # ================================================================ #\\n    dims = np.hstack([input_dim, hidden_dims, num_classes])\\n    for i in range(self.num_layers):\\n        self.params[\\'W\\'+str(i+1)] = weight_scale * np.random.randn(dims[i], dims[i+1])\\n        self.params[\\'b\\'+str(i+1)] = np.zeros(dims[i+1])    \\n\\n    # ================================================================ #\\n    # END YOUR CODE HERE\\n    # ================================================================ #\\n    \\n    \\n    # ================================================================ #\\n    # YOUR CODE HERE:\\n    #   Implement the forward pass of the FC net and store the output\\n    #   scores as the variable \"scores\".\\n    # ================================================================ #\\n    x = X\\n    cache_list = []\\n    for i in range(self.num_layers-1):\\n        x, cache = affine_relu_forward(x, self.params[\\'W\\' + str(i+1)], self.params[\\'b\\' + str(i+1)])\\n        cache_list.append(cache)\\n    scores, cache = affine_forward(x, self.params[\\'W\\' + str(self.num_layers)], self.params[\\'b\\' + str(self.num_layers)])\\n    cache_list.append(cache)\\n\\n    # ================================================================ #\\n    # END YOUR CODE HERE\\n    # ================================================================ #\\n    \\n    \\n    # ================================================================ #\\n    # YOUR CODE HERE:\\n    #   Implement the backwards pass of the FC net and store the gradients\\n    #   in the grads dict, so that grads[k] is the gradient of self.params[k]\\n    #   Be sure your L2 regularization includes a 0.5 factor.\\n    # ================================================================ #\\n\\n    loss, grad = softmax_loss(scores, y)\\n    for i in range(self.num_layers):\\n        w = self.params[\\'W\\' + str(i+1)]\\n        loss = loss + (0.5 * self.reg * np.sum(w * w))\\n    dout, dw, grads[\\'b\\' + str(self.num_layers)] = affine_backward(grad, cache_list[self.num_layers - 1])\\n    grads[\\'W\\' + str(self.num_layers)] = dw + self.reg * self.params[\\'W\\' + str(self.num_layers)]\\n    for i in range(self.num_layers - 2, -1, -1):\\n        dx, dw, grads[\\'b\\' + str(i+1)] = affine_relu_backward(dout, cache_list[i])\\n        grads[\\'W\\' + str(i+1)] = dw + self.reg * self.params[\\'W\\' + str(i+1)]\\n        dout = dx\\n    \\n    # ================================================================ #\\n    # END YOUR CODE HERE\\n    # ================================================================ #\\n'"
      ]
     },
     "execution_count": 67,
     "metadata": {},
     "output_type": "execute_result"
    }
   ],
   "source": [
    "#Below are the relevant code sections for this notebook\n",
    "\n",
    "\n",
    "'''\n",
    "  # ================================================================ #\n",
    "  # YOUR CODE HERE:\n",
    "  #   Calculate the output of the forward pass.  Notice the dimensions\n",
    "  #   of w are D x M, which is the transpose of what we did in earlier \n",
    "  #   assignments.\n",
    "  # ================================================================ #\n",
    "  D = x[0].shape\n",
    "  x_reshape = x.reshape(x.shape[0], np.prod(D))\n",
    "  out = np.dot(x_reshape,w) + b\n",
    "  # ================================================================ #\n",
    "  # END YOUR CODE HERE\n",
    "  # ================================================================ #\n",
    "  \n",
    "  \n",
    "  # ================================================================ #\n",
    "  # YOUR CODE HERE:\n",
    "  #   Calculate the gradients for the backward pass.\n",
    "  # ================================================================ #\n",
    "\n",
    "  # dout is N x M\n",
    "  # dx should be N x d1 x ... x dk; it relates to dout through multiplication with w, which is D x M\n",
    "  # dw should be D x M; it relates to dout through multiplication with x, which is N x D after reshaping\n",
    "  # db should be M; it is just the sum over dout examples\n",
    "  D = np.prod(x[0].shape)\n",
    "  x_reshape = x.reshape(x.shape[0], D)\n",
    "  dx = np.dot(dout, w.T)\n",
    "  dx = np.reshape(dx, x.shape) \n",
    "  dw = np.dot(x_reshape.T, dout)\n",
    "  db = np.sum(dout, axis=0)\n",
    "  # ================================================================ #\n",
    "  # END YOUR CODE HERE\n",
    "  # ================================================================ #\n",
    "  \n",
    "  \n",
    "  # ================================================================ #\n",
    "  # YOUR CODE HERE:\n",
    "  #   Implement the ReLU forward pass.\n",
    "  # ================================================================ #\n",
    "\n",
    "  f = lambda x : x * (x > 0)\n",
    "  out = f(x)\n",
    "  # ================================================================ #\n",
    "  # END YOUR CODE HERE\n",
    "  # ================================================================ #\n",
    "  \n",
    "  \n",
    "  # ================================================================ #\n",
    "  # YOUR CODE HERE:\n",
    "  #   Implement the ReLU backward pass\n",
    "  # ================================================================ #\n",
    "\n",
    "  # ReLU directs linearly to those > 0\n",
    "  g = lambda x : (x > 0)\n",
    "  dx = g(x) * dout\n",
    "    \n",
    "  # ================================================================ #\n",
    "  # END YOUR CODE HERE\n",
    "  # ================================================================ #\n",
    "  \n",
    "  \n",
    "    # ================================================================ #\n",
    "    # YOUR CODE HERE:\n",
    "    #   Initialize W1, W2, b1, and b2.  Store these as self.params['W1'], \n",
    "    #   self.params['W2'], self.params['b1'] and self.params['b2']. The\n",
    "    #   biases are initialized to zero and the weights are initialized\n",
    "    #   so that each parameter has mean 0 and standard deviation weight_scale.\n",
    "    #   The dimensions of W1 should be (input_dim, hidden_dim) and the\n",
    "    #   dimensions of W2 should be (hidden_dims, num_classes)\n",
    "    # ================================================================ #\n",
    "\n",
    "    self.params = {}\n",
    "    self.params['W1'] = weight_scale * np.random.randn(input_dim, hidden_dims)\n",
    "    self.params['b1'] = np.zeros(hidden_dims)\n",
    "    self.params['W2'] = weight_scale * np.random.randn(hidden_dims, num_classes)\n",
    "    self.params['b2'] = np.zeros(num_classes)\n",
    "\n",
    "    # ================================================================ #\n",
    "    # END YOUR CODE HERE\n",
    "    # ================================================================ #\n",
    "    \n",
    "    \n",
    "    # ================================================================ #\n",
    "    # YOUR CODE HERE:\n",
    "    #   Implement the forward pass of the two-layer neural network. Store\n",
    "    #   the class scores as the variable 'scores'.  Be sure to use the layers\n",
    "    #   you prior implemented.\n",
    "    # ================================================================ #    \n",
    "    \n",
    "    a, cache_1 = affine_relu_forward(X, self.params['W1'], self.params['b1'])\n",
    "    scores, cache_2 = affine_forward(a, self.params['W2'], self.params['b2'])\n",
    "    # ================================================================ #\n",
    "    # END YOUR CODE HERE\n",
    "    # ================================================================ #\n",
    "    \n",
    "\n",
    "    # ================================================================ #\n",
    "    # YOUR CODE HERE:\n",
    "    #   Implement the backward pass of the two-layer neural net.  Store\n",
    "    #   the loss as the variable 'loss' and store the gradients in the \n",
    "    #   'grads' dictionary.  For the grads dictionary, grads['W1'] holds\n",
    "    #   the gradient for W1, grads['b1'] holds the gradient for b1, etc.\n",
    "    #   i.e., grads[k] holds the gradient for self.params[k].\n",
    "    #\n",
    "    #   Add L2 regularization, where there is an added cost 0.5*self.reg*W^2\n",
    "    #   for each W.  Be sure to include the 0.5 multiplying factor to \n",
    "    #   match our implementation.\n",
    "    #\n",
    "    #   And be sure to use the layers you prior implemented.\n",
    "    # ================================================================ #    \n",
    "    loss, grad = softmax_loss(scores, y)\n",
    "    reg_term = 0.5 * self.reg * (np.sum(np.square(self.params['W1'])) + np.sum(np.square(self.params['W2'])))\n",
    "    loss = loss + reg_term\n",
    "    dx, grads['W2'], grads['b2'] = affine_backward(grad, cache_2)\n",
    "    _, grads['W1'], grads['b1'] = affine_relu_backward(dx, cache_1)\n",
    "    grads['W1'] = grads['W1'] + (self.reg * self.params['W1'])\n",
    "    grads['W2'] = grads['W2'] + (self.reg * self.params['W2'])\n",
    "    # ================================================================ #\n",
    "    # END YOUR CODE HERE\n",
    "    # ================================================================ #\n",
    "    \n",
    "    \n",
    "    # ================================================================ #\n",
    "    # YOUR CODE HERE:\n",
    "    #   Initialize all parameters of the network in the self.params dictionary.\n",
    "    #   The weights and biases of layer 1 are W1 and b1; and in general the \n",
    "    #   weights and biases of layer i are Wi and bi. The\n",
    "    #   biases are initialized to zero and the weights are initialized\n",
    "    #   so that each parameter has mean 0 and standard deviation weight_scale.\n",
    "    # ================================================================ #\n",
    "    dims = np.hstack([input_dim, hidden_dims, num_classes])\n",
    "    for i in range(self.num_layers):\n",
    "        self.params['W'+str(i+1)] = weight_scale * np.random.randn(dims[i], dims[i+1])\n",
    "        self.params['b'+str(i+1)] = np.zeros(dims[i+1])    \n",
    "\n",
    "    # ================================================================ #\n",
    "    # END YOUR CODE HERE\n",
    "    # ================================================================ #\n",
    "    \n",
    "    \n",
    "    # ================================================================ #\n",
    "    # YOUR CODE HERE:\n",
    "    #   Implement the forward pass of the FC net and store the output\n",
    "    #   scores as the variable \"scores\".\n",
    "    # ================================================================ #\n",
    "    x = X\n",
    "    cache_list = []\n",
    "    for i in range(self.num_layers-1):\n",
    "        x, cache = affine_relu_forward(x, self.params['W' + str(i+1)], self.params['b' + str(i+1)])\n",
    "        cache_list.append(cache)\n",
    "    scores, cache = affine_forward(x, self.params['W' + str(self.num_layers)], self.params['b' + str(self.num_layers)])\n",
    "    cache_list.append(cache)\n",
    "\n",
    "    # ================================================================ #\n",
    "    # END YOUR CODE HERE\n",
    "    # ================================================================ #\n",
    "    \n",
    "    \n",
    "    # ================================================================ #\n",
    "    # YOUR CODE HERE:\n",
    "    #   Implement the backwards pass of the FC net and store the gradients\n",
    "    #   in the grads dict, so that grads[k] is the gradient of self.params[k]\n",
    "    #   Be sure your L2 regularization includes a 0.5 factor.\n",
    "    # ================================================================ #\n",
    "\n",
    "    loss, grad = softmax_loss(scores, y)\n",
    "    for i in range(self.num_layers):\n",
    "        w = self.params['W' + str(i+1)]\n",
    "        loss = loss + (0.5 * self.reg * np.sum(w * w))\n",
    "    dout, dw, grads['b' + str(self.num_layers)] = affine_backward(grad, cache_list[self.num_layers - 1])\n",
    "    grads['W' + str(self.num_layers)] = dw + self.reg * self.params['W' + str(self.num_layers)]\n",
    "    for i in range(self.num_layers - 2, -1, -1):\n",
    "        dx, dw, grads['b' + str(i+1)] = affine_relu_backward(dout, cache_list[i])\n",
    "        grads['W' + str(i+1)] = dw + self.reg * self.params['W' + str(i+1)]\n",
    "        dout = dx\n",
    "    \n",
    "    # ================================================================ #\n",
    "    # END YOUR CODE HERE\n",
    "    # ================================================================ #\n",
    "'''"
   ]
  },
  {
   "cell_type": "code",
   "execution_count": null,
   "metadata": {},
   "outputs": [],
   "source": []
  }
 ],
 "metadata": {
  "kernelspec": {
   "display_name": "Python 3",
   "language": "python",
   "name": "python3"
  },
  "language_info": {
   "codemirror_mode": {
    "name": "ipython",
    "version": 3
   },
   "file_extension": ".py",
   "mimetype": "text/x-python",
   "name": "python",
   "nbconvert_exporter": "python",
   "pygments_lexer": "ipython3",
   "version": "3.8.5"
  }
 },
 "nbformat": 4,
 "nbformat_minor": 2
}
