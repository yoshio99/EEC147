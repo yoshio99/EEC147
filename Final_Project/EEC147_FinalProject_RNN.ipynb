{
 "cells": [
  {
   "cell_type": "code",
   "execution_count": 18,
   "id": "compound-garbage",
   "metadata": {},
   "outputs": [],
   "source": [
    "import numpy as np\n",
    "import matplotlib.pyplot as plt\n",
    "import time\n",
    "import datetime"
   ]
  },
  {
   "cell_type": "code",
   "execution_count": 19,
   "id": "pacific-technician",
   "metadata": {},
   "outputs": [],
   "source": [
    "import tensorflow as tf\n",
    "from tensorflow import keras\n",
    "import tensorflow.keras.models as models\n",
    "# We use models.Model which is the same as keras.Model\n",
    "import tensorflow.keras.layers as layers\n",
    "import tensorflow.keras.activations as Activation\n",
    "from keras.models import Sequential\n",
    "from keras.layers import Dense, Dropout, Flatten, Conv2D, MaxPooling2D, BatchNormalization"
   ]
  },
  {
   "cell_type": "code",
   "execution_count": 20,
   "id": "united-confusion",
   "metadata": {},
   "outputs": [],
   "source": [
    "# load data\n",
    "X_test = np.load(\"project_data/project/X_test.npy\")\n",
    "y_test = np.load(\"project_data/project/y_test.npy\")\n",
    "person_train_valid = np.load(\"project_data/project/person_train_valid.npy\")\n",
    "X_train_valid = np.load(\"project_data/project/X_train_valid.npy\")\n",
    "y_train_valid = np.load(\"project_data/project/y_train_valid.npy\")\n",
    "person_test = np.load(\"project_data/project/person_test.npy\")"
   ]
  },
  {
   "cell_type": "code",
   "execution_count": 21,
   "id": "speaking-passage",
   "metadata": {},
   "outputs": [],
   "source": [
    "# adjust label values\n",
    "y_train_valid -= 769\n",
    "y_test -= 769"
   ]
  },
  {
   "cell_type": "code",
   "execution_count": 22,
   "id": "together-above",
   "metadata": {},
   "outputs": [
    {
     "name": "stdout",
     "output_type": "stream",
     "text": [
      "Training/Valid data shape: (2115, 22, 1000)\n",
      "Test data shape: (443, 22, 1000)\n",
      "Training/Valid target shape: (2115,)\n",
      "Test target shape: (443,)\n",
      "Person train/valid shape: (2115, 1)\n",
      "Person test shape: (443, 1)\n"
     ]
    }
   ],
   "source": [
    "print ('Training/Valid data shape: {}'.format(X_train_valid.shape))\n",
    "print ('Test data shape: {}'.format(X_test.shape))\n",
    "print ('Training/Valid target shape: {}'.format(y_train_valid.shape))\n",
    "print ('Test target shape: {}'.format(y_test.shape))\n",
    "print ('Person train/valid shape: {}'.format(person_train_valid.shape))\n",
    "print ('Person test shape: {}'.format(person_test.shape))"
   ]
  },
  {
   "cell_type": "code",
   "execution_count": 23,
   "id": "selective-plate",
   "metadata": {},
   "outputs": [],
   "source": [
    "# split into train and validation set. Assumes iid\n",
    "perm = np.random.permutation(X_train_valid.shape[0])\n",
    "numTrain = int(0.8*X_train_valid.shape[0])\n",
    "numVal = X_train_valid.shape[0] - numTrain\n",
    "Xtrain = X_train_valid[perm[0:numTrain]]\n",
    "ytrain = y_train_valid[perm[0:numTrain]]\n",
    "Xval = X_train_valid[perm[numTrain: ]]\n",
    "yval = y_train_valid[perm[numTrain: ]]"
   ]
  },
  {
   "cell_type": "code",
   "execution_count": 24,
   "id": "limiting-mountain",
   "metadata": {},
   "outputs": [],
   "source": [
    "def Ksquare(x):\n",
    "    return tf.pow(x, 2)\n",
    "def Klog(x):\n",
    "    return tf.math.log(x)"
   ]
  },
  {
   "cell_type": "code",
   "execution_count": 25,
   "id": "scheduled-rochester",
   "metadata": {},
   "outputs": [
    {
     "data": {
      "text/plain": [
       "\"\\n# Building a Sequential model:\\nmodel = models.Sequential()\\nmodel.add(layers.Permute((2, 1), input_shape=(22, 1000))) # (batch, 22, 1000) -> (batch, 1000, 22)\\nmodel.add(layers.SimpleRNN(50)) # (batch, 1000, 22) -> (batch, hidden_dim)\\nmodel.add(layers.Dense(4, activation='softmax')) # (batch, hidden_dim) -> (batch, 4)\\n\""
      ]
     },
     "execution_count": 25,
     "metadata": {},
     "output_type": "execute_result"
    }
   ],
   "source": [
    "'''\n",
    "# Building a Sequential model:\n",
    "model = models.Sequential()\n",
    "model.add(layers.Permute((2, 1), input_shape=(22, 1000))) # (batch, 22, 1000) -> (batch, 1000, 22)\n",
    "model.add(layers.SimpleRNN(50)) # (batch, 1000, 22) -> (batch, hidden_dim)\n",
    "model.add(layers.Dense(4, activation='softmax')) # (batch, hidden_dim) -> (batch, 4)\n",
    "'''"
   ]
  },
  {
   "cell_type": "code",
   "execution_count": 26,
   "id": "ahead-syria",
   "metadata": {},
   "outputs": [],
   "source": [
    "\n",
    "# Shallow LSTM: Test accuracy:  0.239277645945549\n",
    "model = models.Sequential()\n",
    "model.add(layers.Permute((2, 1), input_shape=(22, 1000))) \n",
    "model.add(layers.LSTM(50)) \n",
    "model.add(layers.Dense(4, activation='softmax')) \n"
   ]
  },
  {
   "cell_type": "code",
   "execution_count": 27,
   "id": "sexual-campbell",
   "metadata": {},
   "outputs": [
    {
     "data": {
      "text/plain": [
       "\"\\n# Shallow GRU: Test accuracy:  0.2618510127067566\\nmodel = models.Sequential()\\nmodel.add(layers.Permute((2, 1), input_shape=(22, 1000)))\\nmodel.add(layers.GRU(50))\\nmodel.add(layers.Dense(4, activation='softmax')) \\n\""
      ]
     },
     "execution_count": 27,
     "metadata": {},
     "output_type": "execute_result"
    }
   ],
   "source": [
    "'''\n",
    "# Shallow GRU: Test accuracy:  0.2618510127067566\n",
    "model = models.Sequential()\n",
    "model.add(layers.Permute((2, 1), input_shape=(22, 1000)))\n",
    "model.add(layers.GRU(50))\n",
    "model.add(layers.Dense(4, activation='softmax')) \n",
    "'''"
   ]
  },
  {
   "cell_type": "code",
   "execution_count": 30,
   "id": "checked-medline",
   "metadata": {},
   "outputs": [],
   "source": [
    "model.compile(keras.optimizers.Adam(), 'sparse_categorical_crossentropy', metrics=['acc'])\n",
    "#model.compile(keras.optimizers.Adam(), keras.losses.SparseCategoricalCrossentropy(), \n",
    "#             metrics=[keras.metrics.SparseCategoricalAccuracy()])"
   ]
  },
  {
   "cell_type": "code",
   "execution_count": 31,
   "id": "prime-concept",
   "metadata": {},
   "outputs": [
    {
     "name": "stdout",
     "output_type": "stream",
     "text": [
      "Model: \"sequential_1\"\n",
      "_________________________________________________________________\n",
      "Layer (type)                 Output Shape              Param #   \n",
      "=================================================================\n",
      "permute_1 (Permute)          (None, 1000, 22)          0         \n",
      "_________________________________________________________________\n",
      "lstm (LSTM)                  (None, 50)                14600     \n",
      "_________________________________________________________________\n",
      "dense_1 (Dense)              (None, 4)                 204       \n",
      "=================================================================\n",
      "Total params: 14,804\n",
      "Trainable params: 14,804\n",
      "Non-trainable params: 0\n",
      "_________________________________________________________________\n"
     ]
    }
   ],
   "source": [
    "model.summary()"
   ]
  },
  {
   "cell_type": "code",
   "execution_count": 32,
   "id": "posted-detection",
   "metadata": {},
   "outputs": [
    {
     "name": "stdout",
     "output_type": "stream",
     "text": [
      "Epoch 1/50\n",
      "53/53 [==============================] - 18s 344ms/step - loss: 1.4449 - acc: 0.2636 - val_loss: 1.4614 - val_acc: 0.2435\n",
      "Epoch 2/50\n",
      "53/53 [==============================] - 17s 321ms/step - loss: 1.3705 - acc: 0.3239 - val_loss: 1.4473 - val_acc: 0.2553\n",
      "Epoch 3/50\n",
      "53/53 [==============================] - 17s 325ms/step - loss: 1.3384 - acc: 0.3446 - val_loss: 1.4507 - val_acc: 0.2411\n",
      "Epoch 4/50\n",
      "53/53 [==============================] - 17s 321ms/step - loss: 1.3176 - acc: 0.3765 - val_loss: 1.4680 - val_acc: 0.2009\n",
      "Epoch 5/50\n",
      "53/53 [==============================] - 16s 306ms/step - loss: 1.2988 - acc: 0.3918 - val_loss: 1.4432 - val_acc: 0.2435\n",
      "Epoch 6/50\n",
      "53/53 [==============================] - 17s 319ms/step - loss: 1.2776 - acc: 0.4108 - val_loss: 1.4628 - val_acc: 0.2199\n",
      "Epoch 7/50\n",
      "53/53 [==============================] - 17s 329ms/step - loss: 1.2603 - acc: 0.4391 - val_loss: 1.4669 - val_acc: 0.2270\n",
      "Epoch 8/50\n",
      "53/53 [==============================] - 16s 295ms/step - loss: 1.2430 - acc: 0.4504 - val_loss: 1.4712 - val_acc: 0.2293\n",
      "Epoch 9/50\n",
      "53/53 [==============================] - 16s 295ms/step - loss: 1.2229 - acc: 0.4704 - val_loss: 1.4690 - val_acc: 0.2293\n",
      "Epoch 10/50\n",
      "53/53 [==============================] - 16s 294ms/step - loss: 1.2103 - acc: 0.4900 - val_loss: 1.4766 - val_acc: 0.2435\n",
      "Epoch 11/50\n",
      "53/53 [==============================] - 16s 293ms/step - loss: 1.1913 - acc: 0.4994 - val_loss: 1.4776 - val_acc: 0.2340\n",
      "Epoch 12/50\n",
      "53/53 [==============================] - 16s 294ms/step - loss: 1.1626 - acc: 0.5266 - val_loss: 1.4995 - val_acc: 0.2506\n",
      "Epoch 13/50\n",
      "53/53 [==============================] - 17s 314ms/step - loss: 1.1426 - acc: 0.5455 - val_loss: 1.5093 - val_acc: 0.2270\n",
      "Epoch 14/50\n",
      "53/53 [==============================] - 18s 333ms/step - loss: 1.1218 - acc: 0.5514 - val_loss: 1.5232 - val_acc: 0.2246\n",
      "Epoch 15/50\n",
      "53/53 [==============================] - 16s 301ms/step - loss: 1.1000 - acc: 0.5508 - val_loss: 1.5109 - val_acc: 0.2388\n",
      "Epoch 16/50\n",
      "53/53 [==============================] - 16s 298ms/step - loss: 1.0753 - acc: 0.5804 - val_loss: 1.5479 - val_acc: 0.2128\n",
      "Epoch 17/50\n",
      "53/53 [==============================] - 16s 297ms/step - loss: 1.0526 - acc: 0.5952 - val_loss: 1.5491 - val_acc: 0.2246\n",
      "Epoch 18/50\n",
      "53/53 [==============================] - 16s 300ms/step - loss: 1.0396 - acc: 0.5981 - val_loss: 1.5547 - val_acc: 0.2364\n",
      "Epoch 19/50\n",
      "53/53 [==============================] - 16s 296ms/step - loss: 1.0142 - acc: 0.6217 - val_loss: 1.5674 - val_acc: 0.2388\n",
      "Epoch 20/50\n",
      "53/53 [==============================] - 16s 309ms/step - loss: 0.9883 - acc: 0.6318 - val_loss: 1.5628 - val_acc: 0.2340\n",
      "Epoch 21/50\n",
      "53/53 [==============================] - 17s 326ms/step - loss: 0.9648 - acc: 0.6478 - val_loss: 1.6173 - val_acc: 0.2246\n",
      "Epoch 22/50\n",
      "53/53 [==============================] - 16s 307ms/step - loss: 0.9373 - acc: 0.6667 - val_loss: 1.6122 - val_acc: 0.2364\n",
      "Epoch 23/50\n",
      "53/53 [==============================] - 16s 301ms/step - loss: 0.9204 - acc: 0.6850 - val_loss: 1.6161 - val_acc: 0.2340\n",
      "Epoch 24/50\n",
      "53/53 [==============================] - 16s 297ms/step - loss: 0.8959 - acc: 0.6915 - val_loss: 1.6366 - val_acc: 0.2388\n",
      "Epoch 25/50\n",
      "53/53 [==============================] - 16s 305ms/step - loss: 0.8723 - acc: 0.6986 - val_loss: 1.6410 - val_acc: 0.2270\n",
      "Epoch 26/50\n",
      "53/53 [==============================] - 16s 296ms/step - loss: 0.8399 - acc: 0.7204 - val_loss: 1.6711 - val_acc: 0.2506\n",
      "Epoch 27/50\n",
      "53/53 [==============================] - 16s 306ms/step - loss: 0.8146 - acc: 0.7358 - val_loss: 1.6749 - val_acc: 0.2388\n",
      "Epoch 28/50\n",
      "53/53 [==============================] - 17s 330ms/step - loss: 0.7898 - acc: 0.7429 - val_loss: 1.7040 - val_acc: 0.2364\n",
      "Epoch 29/50\n",
      "53/53 [==============================] - 17s 329ms/step - loss: 0.7739 - acc: 0.7600 - val_loss: 1.7084 - val_acc: 0.2624\n",
      "Epoch 30/50\n",
      "53/53 [==============================] - 16s 296ms/step - loss: 0.7499 - acc: 0.7660 - val_loss: 1.7352 - val_acc: 0.2482\n",
      "Epoch 31/50\n",
      "53/53 [==============================] - 16s 308ms/step - loss: 0.7306 - acc: 0.7695 - val_loss: 1.7332 - val_acc: 0.2459\n",
      "Epoch 32/50\n",
      "53/53 [==============================] - 16s 296ms/step - loss: 0.6961 - acc: 0.7985 - val_loss: 1.7851 - val_acc: 0.2435\n",
      "Epoch 33/50\n",
      "53/53 [==============================] - 16s 295ms/step - loss: 0.6704 - acc: 0.8014 - val_loss: 1.7901 - val_acc: 0.2482\n",
      "Epoch 34/50\n",
      "53/53 [==============================] - 16s 296ms/step - loss: 0.6629 - acc: 0.8067 - val_loss: 1.8123 - val_acc: 0.2080\n",
      "Epoch 35/50\n",
      "53/53 [==============================] - 17s 319ms/step - loss: 0.6419 - acc: 0.8061 - val_loss: 1.8104 - val_acc: 0.2577\n",
      "Epoch 36/50\n",
      "53/53 [==============================] - 18s 333ms/step - loss: 0.6072 - acc: 0.8268 - val_loss: 1.8137 - val_acc: 0.2411\n",
      "Epoch 37/50\n",
      "53/53 [==============================] - 16s 298ms/step - loss: 0.5911 - acc: 0.8322 - val_loss: 1.8595 - val_acc: 0.2388\n",
      "Epoch 38/50\n",
      "53/53 [==============================] - 16s 296ms/step - loss: 0.5646 - acc: 0.8422 - val_loss: 1.8587 - val_acc: 0.2695\n",
      "Epoch 39/50\n",
      "53/53 [==============================] - 15s 290ms/step - loss: 0.5475 - acc: 0.8558 - val_loss: 1.9320 - val_acc: 0.2648\n",
      "Epoch 40/50\n",
      "53/53 [==============================] - 15s 288ms/step - loss: 0.5263 - acc: 0.8576 - val_loss: 1.9927 - val_acc: 0.2317\n",
      "Epoch 41/50\n",
      "53/53 [==============================] - 16s 295ms/step - loss: 0.5319 - acc: 0.8528 - val_loss: 1.9546 - val_acc: 0.2671\n",
      "Epoch 42/50\n",
      "53/53 [==============================] - 17s 312ms/step - loss: 0.4874 - acc: 0.8777 - val_loss: 1.9814 - val_acc: 0.2482\n",
      "Epoch 43/50\n",
      "53/53 [==============================] - 17s 328ms/step - loss: 0.4835 - acc: 0.8735 - val_loss: 1.9856 - val_acc: 0.2577\n",
      "Epoch 44/50\n",
      "53/53 [==============================] - 16s 293ms/step - loss: 0.4631 - acc: 0.8830 - val_loss: 2.0148 - val_acc: 0.2388\n",
      "Epoch 45/50\n",
      "53/53 [==============================] - 15s 290ms/step - loss: 0.4303 - acc: 0.8918 - val_loss: 2.0724 - val_acc: 0.2340\n",
      "Epoch 46/50\n",
      "53/53 [==============================] - 15s 287ms/step - loss: 0.4074 - acc: 0.8995 - val_loss: 2.0781 - val_acc: 0.2553\n",
      "Epoch 47/50\n",
      "53/53 [==============================] - 15s 282ms/step - loss: 0.3974 - acc: 0.9090 - val_loss: 2.1599 - val_acc: 0.2600\n",
      "Epoch 48/50\n",
      "53/53 [==============================] - 15s 284ms/step - loss: 0.3929 - acc: 0.9113 - val_loss: 2.1233 - val_acc: 0.2600\n",
      "Epoch 49/50\n",
      "53/53 [==============================] - 15s 286ms/step - loss: 0.3765 - acc: 0.9137 - val_loss: 2.1303 - val_acc: 0.2459\n",
      "Epoch 50/50\n",
      "53/53 [==============================] - 17s 326ms/step - loss: 0.3615 - acc: 0.9161 - val_loss: 2.1774 - val_acc: 0.2246\n"
     ]
    }
   ],
   "source": [
    "loss_hist = model.fit(Xtrain, ytrain, validation_data = (Xval, yval), epochs = 50, verbose=True)"
   ]
  },
  {
   "cell_type": "code",
   "execution_count": 33,
   "id": "fitted-ethnic",
   "metadata": {},
   "outputs": [
    {
     "data": {
      "text/plain": [
       "<matplotlib.legend.Legend at 0x214831aaa60>"
      ]
     },
     "execution_count": 33,
     "metadata": {},
     "output_type": "execute_result"
    },
    {
     "data": {
      "image/png": "[encoded data removed]",
      "text/plain": [
       "<Figure size 1080x504 with 2 Axes>"
      ]
     },
     "metadata": {
      "needs_background": "light"
     },
     "output_type": "display_data"
    }
   ],
   "source": [
    "hist = loss_hist.history\n",
    "\n",
    "plt.figure(figsize=(15, 7))\n",
    "plt.subplot(1, 2, 1)\n",
    "plt.plot(hist['loss'])\n",
    "plt.plot(hist['val_loss'])\n",
    "plt.ylabel('loss')\n",
    "plt.xlabel('epoch')\n",
    "plt.legend(['train', 'val'])\n",
    "\n",
    "plt.subplot(1, 2, 2)\n",
    "plt.plot(hist['acc'])\n",
    "plt.plot(hist['val_acc'])\n",
    "plt.ylabel('acc')\n",
    "plt.xlabel('epoch')\n",
    "plt.legend(['train', 'val'])"
   ]
  },
  {
   "cell_type": "code",
   "execution_count": 34,
   "id": "alleged-equilibrium",
   "metadata": {},
   "outputs": [
    {
     "name": "stdout",
     "output_type": "stream",
     "text": [
      "Test accuracy:  0.239277645945549\n"
     ]
    }
   ],
   "source": [
    "score = model.evaluate(X_test, y_test, verbose=0)\n",
    "print(\"Test accuracy: \", score[1])"
   ]
  },
  {
   "cell_type": "code",
   "execution_count": null,
   "id": "responsible-extent",
   "metadata": {},
   "outputs": [],
   "source": []
  }
 ],
 "metadata": {
  "kernelspec": {
   "display_name": "Python 3",
   "language": "python",
   "name": "python3"
  },
  "language_info": {
   "codemirror_mode": {
    "name": "ipython",
    "version": 3
   },
   "file_extension": ".py",
   "mimetype": "text/x-python",
   "name": "python",
   "nbconvert_exporter": "python",
   "pygments_lexer": "ipython3",
   "version": "3.8.8"
  }
 },
 "nbformat": 4,
 "nbformat_minor": 5
}
