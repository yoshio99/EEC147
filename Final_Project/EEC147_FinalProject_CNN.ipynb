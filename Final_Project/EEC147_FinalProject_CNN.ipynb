{
 "cells": [
  {
   "cell_type": "code",
   "execution_count": 1,
   "id": "compound-garbage",
   "metadata": {},
   "outputs": [],
   "source": [
    "import numpy as np\n",
    "import matplotlib.pyplot as plt\n",
    "import time\n",
    "import datetime"
   ]
  },
  {
   "cell_type": "code",
   "execution_count": 2,
   "id": "pacific-technician",
   "metadata": {},
   "outputs": [],
   "source": [
    "import tensorflow as tf\n",
    "from tensorflow import keras\n",
    "import tensorflow.keras.models as models\n",
    "# We use models.Model which is the same as keras.Model\n",
    "import tensorflow.keras.layers as layers\n",
    "import tensorflow.keras.activations as Activation\n",
    "from keras.models import Sequential\n",
    "from keras.layers import Dense, Dropout, Flatten, Conv2D, MaxPooling2D\n",
    "from sklearn.model_selection import train_test_split\n",
    "from keras.utils import to_categorical"
   ]
  },
  {
   "cell_type": "code",
   "execution_count": 3,
   "id": "united-confusion",
   "metadata": {},
   "outputs": [],
   "source": [
    "# load data\n",
    "X_test = np.load(\"project_data/project/X_test.npy\")\n",
    "y_test = np.load(\"project_data/project/y_test.npy\")\n",
    "person_train_valid = np.load(\"project_data/project/person_train_valid.npy\")\n",
    "X_train_valid = np.load(\"project_data/project/X_train_valid.npy\")\n",
    "y_train_valid = np.load(\"project_data/project/y_train_valid.npy\")\n",
    "person_test = np.load(\"project_data/project/person_test.npy\")"
   ]
  },
  {
   "cell_type": "code",
   "execution_count": 4,
   "id": "speaking-passage",
   "metadata": {},
   "outputs": [],
   "source": [
    "# adjust label values\n",
    "y_train_valid -= 769\n",
    "y_test -= 769"
   ]
  },
  {
   "cell_type": "code",
   "execution_count": 5,
   "id": "together-above",
   "metadata": {},
   "outputs": [
    {
     "name": "stdout",
     "output_type": "stream",
     "text": [
      "Training/Valid data shape: (2115, 22, 1000)\n",
      "Test data shape: (443, 22, 1000)\n",
      "Training/Valid target shape: (2115,)\n",
      "Test target shape: (443,)\n",
      "Person train/valid shape: (2115, 1)\n",
      "Person test shape: (443, 1)\n"
     ]
    }
   ],
   "source": [
    "print ('Training/Valid data shape: {}'.format(X_train_valid.shape))\n",
    "print ('Test data shape: {}'.format(X_test.shape))\n",
    "print ('Training/Valid target shape: {}'.format(y_train_valid.shape))\n",
    "print ('Test target shape: {}'.format(y_test.shape))\n",
    "print ('Person train/valid shape: {}'.format(person_train_valid.shape))\n",
    "print ('Person test shape: {}'.format(person_test.shape))"
   ]
  },
  {
   "cell_type": "code",
   "execution_count": 6,
   "id": "selective-plate",
   "metadata": {},
   "outputs": [
    {
     "data": {
      "text/plain": [
       "'\\n# split into train and validation set. Assumes iid\\nperm = np.random.permutation(X_train_valid.shape[0])\\nnumTrain = int(0.8*X_train_valid.shape[0])\\nnumVal = X_train_valid.shape[0] - numTrain\\nXtrain = X_train_valid[perm[0:numTrain]]\\nytrain = y_train_valid[perm[0:numTrain]]\\nXval = X_train_valid[perm[numTrain: ]]\\nyval = y_train_valid[perm[numTrain: ]]\\n'"
      ]
     },
     "execution_count": 6,
     "metadata": {},
     "output_type": "execute_result"
    }
   ],
   "source": [
    "'''\n",
    "# split into train and validation set. Assumes iid\n",
    "perm = np.random.permutation(X_train_valid.shape[0])\n",
    "numTrain = int(0.8*X_train_valid.shape[0])\n",
    "numVal = X_train_valid.shape[0] - numTrain\n",
    "Xtrain = X_train_valid[perm[0:numTrain]]\n",
    "ytrain = y_train_valid[perm[0:numTrain]]\n",
    "Xval = X_train_valid[perm[numTrain: ]]\n",
    "yval = y_train_valid[perm[numTrain: ]]\n",
    "'''"
   ]
  },
  {
   "cell_type": "code",
   "execution_count": 7,
   "id": "preceding-coupon",
   "metadata": {},
   "outputs": [
    {
     "name": "stdout",
     "output_type": "stream",
     "text": [
      "(8460, 22, 250)\n",
      "(8460,)\n",
      "(1772, 22, 250)\n",
      "(1772,)\n",
      "(6960, 250, 1, 22)\n",
      "(6960, 4)\n",
      "(1772, 250, 1, 22)\n",
      "(1772, 4)\n",
      "(1500, 250, 1, 22)\n",
      "(1500, 4)\n"
     ]
    }
   ],
   "source": [
    "\n",
    "def data_prep(X,y,sub_sample,average,noise):\n",
    "    \n",
    "    total_X = None\n",
    "    total_y = None\n",
    "    \n",
    "    # Trimming the data\n",
    "    X = X[:,:,0:500]\n",
    "    \n",
    "    # Maxpooling the data\n",
    "    X_max = np.max(X.reshape(X.shape[0], X.shape[1], -1, sub_sample), axis=3)\n",
    "    \n",
    "    total_X = X_max\n",
    "    total_y = y\n",
    "    \n",
    "    # Averaging + noise\n",
    "    X_average = np.mean(X.reshape(X.shape[0], X.shape[1], -1, average),axis=3)\n",
    "    X_average = X_average + np.random.normal(0.0, 0.5, X_average.shape)\n",
    "    \n",
    "    total_X = np.vstack((total_X, X_average))\n",
    "    total_y = np.hstack((total_y, y))\n",
    "    \n",
    "    # Subsampling\n",
    "    \n",
    "    for i in range(sub_sample):\n",
    "        \n",
    "        X_subsample = X[:, :, i::sub_sample] + \\\n",
    "                            (np.random.normal(0.0, 0.5, X[:, :,i::sub_sample].shape) if noise else 0.0)\n",
    "            \n",
    "        total_X = np.vstack((total_X, X_subsample))\n",
    "        total_y = np.hstack((total_y, y))\n",
    "        \n",
    "        \n",
    "    return total_X,total_y\n",
    "\n",
    "\n",
    "X_train_valid_prep,y_train_valid_prep = data_prep(X_train_valid,y_train_valid,2,2,True)\n",
    "X_test_prep,y_test_prep = data_prep(X_test,y_test,2,2,True)\n",
    "\n",
    "print(X_train_valid_prep.shape)\n",
    "print(y_train_valid_prep.shape)\n",
    "print(X_test_prep.shape)\n",
    "print(y_test_prep.shape)\n",
    "\n",
    "# random splitting\n",
    "ind_valid = np.random.choice(8460, 1500, replace=False)\n",
    "ind_train = np.array(list(set(range(8460)).difference(set(ind_valid))))\n",
    "(x_train, x_valid) = X_train_valid_prep[ind_train], X_train_valid_prep[ind_valid] \n",
    "(y_train, y_valid) = y_train_valid_prep[ind_train], y_train_valid_prep[ind_valid]\n",
    "\n",
    "y_train = to_categorical(y_train, 4)\n",
    "y_valid = to_categorical(y_valid, 4)\n",
    "\n",
    "x_train = x_train.reshape(x_train.shape[0], x_train.shape[1], x_train.shape[2], 1)\n",
    "x_valid = x_valid.reshape(x_valid.shape[0], x_valid.shape[1], x_train.shape[2], 1)\n",
    "\n",
    "x_train = np.swapaxes(x_train, 1,3)\n",
    "x_train = np.swapaxes(x_train, 1,2)\n",
    "x_valid = np.swapaxes(x_valid, 1,3)\n",
    "x_valid = np.swapaxes(x_valid, 1,2)\n",
    "\n",
    "x_test = X_test_prep.reshape(X_test_prep.shape[0], X_test_prep.shape[1], X_test_prep.shape[2], 1)\n",
    "x_test = np.swapaxes(x_test, 1,3)\n",
    "x_test = np.swapaxes(x_test, 1,2)\n",
    "y_test = to_categorical(y_test_prep, 4)\n",
    "\n",
    "print (x_train.shape)\n",
    "print (y_train.shape)\n",
    "print (x_test.shape)\n",
    "print (y_test.shape)\n",
    "print (x_valid.shape)\n",
    "print (y_valid.shape)\n"
   ]
  },
  {
   "cell_type": "code",
   "execution_count": 8,
   "id": "limiting-mountain",
   "metadata": {},
   "outputs": [],
   "source": [
    "def Ksquare(x):\n",
    "    return tf.pow(x, 2)\n",
    "def Klog(x):\n",
    "    return tf.math.log(x)"
   ]
  },
  {
   "cell_type": "code",
   "execution_count": 9,
   "id": "continuous-stylus",
   "metadata": {},
   "outputs": [
    {
     "data": {
      "text/plain": [
       "\"\\n#w/out data aug: 0.4953464620994137\\n#Simple CNN w/ data aug, Test accuracy:  0.5948081016540527\\nmodel = Sequential()\\nmodel.add(layers.Input((22,1000)))\\nmodel.add(layers.Reshape((22,1000,1)))\\nmodel.add(layers.Conv2D(40, kernel_size=(10,1), activation='elu'))\\nmodel.add(layers.BatchNormalization())\\nmodel.add(layers.Dropout(0.5))\\nmodel.add(layers.Flatten())\\nmodel.add(Dense(4, activation='softmax'))\\n\""
      ]
     },
     "execution_count": 9,
     "metadata": {},
     "output_type": "execute_result"
    }
   ],
   "source": [
    "'''\n",
    "#w/out data aug: 0.4953464620994137\n",
    "#Simple CNN w/ data aug, Test accuracy:  0.5948081016540527\n",
    "model = Sequential()\n",
    "model.add(layers.Input((22,1000)))\n",
    "model.add(layers.Reshape((22,1000,1)))\n",
    "model.add(layers.Conv2D(40, kernel_size=(10,1), activation='elu'))\n",
    "model.add(layers.BatchNormalization())\n",
    "model.add(layers.Dropout(0.5))\n",
    "model.add(layers.Flatten())\n",
    "model.add(Dense(4, activation='softmax'))\n",
    "'''"
   ]
  },
  {
   "cell_type": "code",
   "execution_count": 10,
   "id": "ahead-syria",
   "metadata": {},
   "outputs": [
    {
     "data": {
      "text/plain": [
       "\"\\n#Deeper CNN w/ data aug, Test accuracy:  0.6495485305786133\\n#Deeper CNN w/out data aug, Test accuracy: 0.53052216409576864\\nmodel = Sequential()\\nmodel.add(layers.Input((22,1000)))\\nmodel.add(layers.Reshape((22,1000,1)))\\nmodel.add(layers.Conv2D(40, kernel_size=(10,1), activation='elu'))\\nmodel.add(layers.BatchNormalization())\\nmodel.add(layers.Dropout(0.5))\\nmodel.add(layers.Conv2D(40, kernel_size=(10,1), activation='elu'))\\nmodel.add(layers.BatchNormalization())\\nmodel.add(layers.Dropout(0.5))\\nmodel.add(layers.Conv2D(40, kernel_size=(10,1), activation='elu'))\\nmodel.add(layers.BatchNormalization())\\nmodel.add(layers.Dropout(0.5))\\nmodel.add(layers.Conv2D(40, kernel_size=(10,1), activation='elu'))\\nmodel.add(layers.BatchNormalization())\\nmodel.add(layers.Dropout(0.5))\\nmodel.add(layers.Flatten())\\nmodel.add(Dense(4, activation='softmax'))\\n\""
      ]
     },
     "execution_count": 10,
     "metadata": {},
     "output_type": "execute_result"
    }
   ],
   "source": [
    "'''\n",
    "#Deeper CNN w/ data aug, Test accuracy:  0.6495485305786133\n",
    "#Deeper CNN w/out data aug, Test accuracy: 0.53052216409576864\n",
    "model = Sequential()\n",
    "model.add(layers.Input((22,1000)))\n",
    "model.add(layers.Reshape((22,1000,1)))\n",
    "model.add(layers.Conv2D(40, kernel_size=(10,1), activation='elu'))\n",
    "model.add(layers.BatchNormalization())\n",
    "model.add(layers.Dropout(0.5))\n",
    "model.add(layers.Conv2D(40, kernel_size=(10,1), activation='elu'))\n",
    "model.add(layers.BatchNormalization())\n",
    "model.add(layers.Dropout(0.5))\n",
    "model.add(layers.Conv2D(40, kernel_size=(10,1), activation='elu'))\n",
    "model.add(layers.BatchNormalization())\n",
    "model.add(layers.Dropout(0.5))\n",
    "model.add(layers.Conv2D(40, kernel_size=(10,1), activation='elu'))\n",
    "model.add(layers.BatchNormalization())\n",
    "model.add(layers.Dropout(0.5))\n",
    "model.add(layers.Flatten())\n",
    "model.add(Dense(4, activation='softmax'))\n",
    "'''"
   ]
  },
  {
   "cell_type": "code",
   "execution_count": 11,
   "id": "exciting-knock",
   "metadata": {},
   "outputs": [
    {
     "data": {
      "text/plain": [
       "\"\\n#Shallow CNN-GRU: Test accuracy:  0.44695258140563965\\n#w/ data aug: Test accuracy:  0.6151241660118103\\nmodel = Sequential()\\nmodel.add(layers.Conv2D(40, kernel_size=(10,1), activation='elu', input_shape=(250,1,22)))\\nmodel.add(MaxPooling2D(pool_size=(3,1), padding='same'))\\nmodel.add(layers.BatchNormalization())\\nmodel.add(layers.Dropout(0.5))\\nmodel.add(layers.Conv2D(80, kernel_size=(10,1), activation='elu'))\\nmodel.add(MaxPooling2D(pool_size=(3,1), padding='same'))\\nmodel.add(layers.BatchNormalization())\\nmodel.add(layers.Dropout(0.5))\\nmodel.add(layers.Conv2D(160, kernel_size=(10,1), activation='elu'))\\nmodel.add(MaxPooling2D(pool_size=(3,1), padding='same'))\\nmodel.add(layers.BatchNormalization())\\nmodel.add(layers.Dropout(0.5))\\nmodel.add(layers.Reshape((5, 1*160)))\\nmodel.add(layers.GRU(12, recurrent_dropout=0.5))\\nmodel.add(Dense(4, activation='softmax'))\\n\""
      ]
     },
     "execution_count": 11,
     "metadata": {},
     "output_type": "execute_result"
    }
   ],
   "source": [
    "'''\n",
    "#Shallow CNN-GRU: Test accuracy:  0.44695258140563965\n",
    "#w/ data aug: Test accuracy:  0.6151241660118103\n",
    "model = Sequential()\n",
    "model.add(layers.Conv2D(40, kernel_size=(10,1), activation='elu', input_shape=(250,1,22)))\n",
    "model.add(MaxPooling2D(pool_size=(3,1), padding='same'))\n",
    "model.add(layers.BatchNormalization())\n",
    "model.add(layers.Dropout(0.5))\n",
    "model.add(layers.Conv2D(80, kernel_size=(10,1), activation='elu'))\n",
    "model.add(MaxPooling2D(pool_size=(3,1), padding='same'))\n",
    "model.add(layers.BatchNormalization())\n",
    "model.add(layers.Dropout(0.5))\n",
    "model.add(layers.Conv2D(160, kernel_size=(10,1), activation='elu'))\n",
    "model.add(MaxPooling2D(pool_size=(3,1), padding='same'))\n",
    "model.add(layers.BatchNormalization())\n",
    "model.add(layers.Dropout(0.5))\n",
    "model.add(layers.Reshape((5, 1*160)))\n",
    "model.add(layers.GRU(12, recurrent_dropout=0.5))\n",
    "model.add(Dense(4, activation='softmax'))\n",
    "'''"
   ]
  },
  {
   "cell_type": "code",
   "execution_count": 12,
   "id": "corrected-jackson",
   "metadata": {},
   "outputs": [],
   "source": [
    "\n",
    "#Shallow CNN-LSTM: Test accuracy:  0.44695258140563965\n",
    "#w/ data aug: Test accuracy:  0.6608352065086365\n",
    "model = Sequential()\n",
    "model.add(layers.Conv2D(40, kernel_size=(10,1), activation='elu', input_shape=(250,1,22)))\n",
    "model.add(MaxPooling2D(pool_size=(3,1), padding='same'))\n",
    "model.add(layers.BatchNormalization())\n",
    "model.add(layers.Dropout(0.5))\n",
    "model.add(layers.Conv2D(80, kernel_size=(10,1), activation='elu'))\n",
    "model.add(MaxPooling2D(pool_size=(3,1), padding='same'))\n",
    "model.add(layers.BatchNormalization())\n",
    "model.add(layers.Dropout(0.5))\n",
    "model.add(layers.Conv2D(160, kernel_size=(10,1), activation='elu'))\n",
    "model.add(MaxPooling2D(pool_size=(3,1), padding='same'))\n",
    "model.add(layers.BatchNormalization())\n",
    "model.add(layers.Dropout(0.5))\n",
    "model.add(layers.Reshape((5, 1*160)))\n",
    "model.add(layers.LSTM(12, recurrent_dropout=0.5))\n",
    "model.add(Dense(4, activation='softmax'))\n"
   ]
  },
  {
   "cell_type": "code",
   "execution_count": 13,
   "id": "waiting-squad",
   "metadata": {},
   "outputs": [
    {
     "data": {
      "text/plain": [
       "\"\\n#Shallow CNN-LSTM (Credit to Tonmoy (slightly changed)): Test accuracy:  0.6890519261360168\\nmodel = Sequential()\\nmodel.add(layers.Conv2D(40, kernel_size=(10,1), activation='elu', input_shape=(250,1,22)))\\nmodel.add(MaxPooling2D(pool_size=(3,1), padding='same'))\\nmodel.add(layers.BatchNormalization())\\nmodel.add(layers.Dropout(0.5))\\nmodel.add(layers.Conv2D(80, kernel_size=(10,1), activation='elu'))\\nmodel.add(MaxPooling2D(pool_size=(3,1), padding='same'))\\nmodel.add(layers.BatchNormalization())\\nmodel.add(layers.Dropout(0.5))\\nmodel.add(layers.Conv2D(160, kernel_size=(10,1), activation='elu'))\\nmodel.add(MaxPooling2D(pool_size=(3,1), padding='same'))\\nmodel.add(layers.BatchNormalization())\\nmodel.add(layers.Dropout(0.5))\\nmodel.add(layers.Flatten())\\nmodel.add(layers.Dense((50)))\\nmodel.add(layers.Reshape((50,1)))\\nmodel.add(layers.LSTM(10, dropout=0.5, recurrent_dropout=0.5, input_shape=(50,1)))\\nmodel.add(Dense(4, activation='softmax'))\\n\""
      ]
     },
     "execution_count": 13,
     "metadata": {},
     "output_type": "execute_result"
    }
   ],
   "source": [
    "'''\n",
    "#Shallow CNN-LSTM (Credit to Tonmoy (slightly changed)): Test accuracy:  0.6890519261360168\n",
    "model = Sequential()\n",
    "model.add(layers.Conv2D(40, kernel_size=(10,1), activation='elu', input_shape=(250,1,22)))\n",
    "model.add(MaxPooling2D(pool_size=(3,1), padding='same'))\n",
    "model.add(layers.BatchNormalization())\n",
    "model.add(layers.Dropout(0.5))\n",
    "model.add(layers.Conv2D(80, kernel_size=(10,1), activation='elu'))\n",
    "model.add(MaxPooling2D(pool_size=(3,1), padding='same'))\n",
    "model.add(layers.BatchNormalization())\n",
    "model.add(layers.Dropout(0.5))\n",
    "model.add(layers.Conv2D(160, kernel_size=(10,1), activation='elu'))\n",
    "model.add(MaxPooling2D(pool_size=(3,1), padding='same'))\n",
    "model.add(layers.BatchNormalization())\n",
    "model.add(layers.Dropout(0.5))\n",
    "model.add(layers.Flatten())\n",
    "model.add(layers.Dense((50)))\n",
    "model.add(layers.Reshape((50,1)))\n",
    "model.add(layers.LSTM(10, dropout=0.5, recurrent_dropout=0.5, input_shape=(50,1)))\n",
    "model.add(Dense(4, activation='softmax'))\n",
    "'''"
   ]
  },
  {
   "cell_type": "code",
   "execution_count": 14,
   "id": "checked-medline",
   "metadata": {},
   "outputs": [],
   "source": [
    "#model = models.Model(inputs=inputs, outputs=outputs, name='shallow_convnet')\n",
    "model.compile(keras.optimizers.Adam(), 'categorical_crossentropy', metrics=['acc'])\n",
    "#model.compile(keras.optimizers.Adam(), keras.losses.SparseCategoricalCrossentropy(), \n",
    "#             metrics=[keras.metrics.SparseCategoricalAccuracy()])"
   ]
  },
  {
   "cell_type": "code",
   "execution_count": 15,
   "id": "prime-concept",
   "metadata": {},
   "outputs": [
    {
     "name": "stdout",
     "output_type": "stream",
     "text": [
      "Model: \"sequential\"\n",
      "_________________________________________________________________\n",
      "Layer (type)                 Output Shape              Param #   \n",
      "=================================================================\n",
      "conv2d (Conv2D)              (None, 241, 1, 40)        8840      \n",
      "_________________________________________________________________\n",
      "max_pooling2d (MaxPooling2D) (None, 81, 1, 40)         0         \n",
      "_________________________________________________________________\n",
      "batch_normalization (BatchNo (None, 81, 1, 40)         160       \n",
      "_________________________________________________________________\n",
      "dropout (Dropout)            (None, 81, 1, 40)         0         \n",
      "_________________________________________________________________\n",
      "conv2d_1 (Conv2D)            (None, 72, 1, 80)         32080     \n",
      "_________________________________________________________________\n",
      "max_pooling2d_1 (MaxPooling2 (None, 24, 1, 80)         0         \n",
      "_________________________________________________________________\n",
      "batch_normalization_1 (Batch (None, 24, 1, 80)         320       \n",
      "_________________________________________________________________\n",
      "dropout_1 (Dropout)          (None, 24, 1, 80)         0         \n",
      "_________________________________________________________________\n",
      "conv2d_2 (Conv2D)            (None, 15, 1, 160)        128160    \n",
      "_________________________________________________________________\n",
      "max_pooling2d_2 (MaxPooling2 (None, 5, 1, 160)         0         \n",
      "_________________________________________________________________\n",
      "batch_normalization_2 (Batch (None, 5, 1, 160)         640       \n",
      "_________________________________________________________________\n",
      "dropout_2 (Dropout)          (None, 5, 1, 160)         0         \n",
      "_________________________________________________________________\n",
      "reshape (Reshape)            (None, 5, 160)            0         \n",
      "_________________________________________________________________\n",
      "lstm (LSTM)                  (None, 12)                8304      \n",
      "_________________________________________________________________\n",
      "dense (Dense)                (None, 4)                 52        \n",
      "=================================================================\n",
      "Total params: 178,556\n",
      "Trainable params: 177,996\n",
      "Non-trainable params: 560\n",
      "_________________________________________________________________\n"
     ]
    }
   ],
   "source": [
    "model.summary()"
   ]
  },
  {
   "cell_type": "code",
   "execution_count": 16,
   "id": "posted-detection",
   "metadata": {},
   "outputs": [
    {
     "name": "stdout",
     "output_type": "stream",
     "text": [
      "Epoch 1/50\n",
      "218/218 [==============================] - 5s 21ms/step - loss: 1.3551 - acc: 0.3318 - val_loss: 1.2840 - val_acc: 0.4000\n",
      "Epoch 2/50\n",
      "218/218 [==============================] - 5s 21ms/step - loss: 1.2661 - acc: 0.4118 - val_loss: 1.1978 - val_acc: 0.4600\n",
      "Epoch 3/50\n",
      "218/218 [==============================] - 4s 20ms/step - loss: 1.1851 - acc: 0.4731 - val_loss: 1.1428 - val_acc: 0.5087\n",
      "Epoch 4/50\n",
      "218/218 [==============================] - 4s 20ms/step - loss: 1.1256 - acc: 0.5180 - val_loss: 1.0682 - val_acc: 0.5567\n",
      "Epoch 5/50\n",
      "218/218 [==============================] - 4s 20ms/step - loss: 1.0706 - acc: 0.5519 - val_loss: 0.9909 - val_acc: 0.5933\n",
      "Epoch 6/50\n",
      "218/218 [==============================] - 4s 20ms/step - loss: 1.0349 - acc: 0.5682 - val_loss: 0.9624 - val_acc: 0.6120\n",
      "Epoch 7/50\n",
      "218/218 [==============================] - 4s 20ms/step - loss: 0.9772 - acc: 0.5994 - val_loss: 0.9002 - val_acc: 0.6393\n",
      "Epoch 8/50\n",
      "218/218 [==============================] - 4s 20ms/step - loss: 0.9529 - acc: 0.6152 - val_loss: 0.8422 - val_acc: 0.6733\n",
      "Epoch 9/50\n",
      "218/218 [==============================] - 5s 22ms/step - loss: 0.9041 - acc: 0.6415 - val_loss: 0.8653 - val_acc: 0.6520\n",
      "Epoch 10/50\n",
      "218/218 [==============================] - 5s 21ms/step - loss: 0.8837 - acc: 0.6457 - val_loss: 0.8300 - val_acc: 0.6713\n",
      "Epoch 11/50\n",
      "218/218 [==============================] - 4s 20ms/step - loss: 0.8592 - acc: 0.6583 - val_loss: 0.7643 - val_acc: 0.7013\n",
      "Epoch 12/50\n",
      "218/218 [==============================] - 4s 19ms/step - loss: 0.8434 - acc: 0.6649 - val_loss: 0.7234 - val_acc: 0.7133\n",
      "Epoch 13/50\n",
      "218/218 [==============================] - 4s 20ms/step - loss: 0.8125 - acc: 0.6751 - val_loss: 0.6978 - val_acc: 0.7327\n",
      "Epoch 14/50\n",
      "218/218 [==============================] - 4s 19ms/step - loss: 0.7927 - acc: 0.6839 - val_loss: 0.6518 - val_acc: 0.7507\n",
      "Epoch 15/50\n",
      "218/218 [==============================] - 4s 20ms/step - loss: 0.7704 - acc: 0.7026 - val_loss: 0.6445 - val_acc: 0.7593\n",
      "Epoch 16/50\n",
      "218/218 [==============================] - 5s 21ms/step - loss: 0.7468 - acc: 0.7050 - val_loss: 0.6532 - val_acc: 0.7613\n",
      "Epoch 17/50\n",
      "218/218 [==============================] - 5s 21ms/step - loss: 0.7320 - acc: 0.7185 - val_loss: 0.5963 - val_acc: 0.7787\n",
      "Epoch 18/50\n",
      "218/218 [==============================] - 4s 21ms/step - loss: 0.7064 - acc: 0.7249 - val_loss: 0.5644 - val_acc: 0.7933\n",
      "Epoch 19/50\n",
      "218/218 [==============================] - 4s 20ms/step - loss: 0.7059 - acc: 0.7295 - val_loss: 0.5665 - val_acc: 0.7900\n",
      "Epoch 20/50\n",
      "218/218 [==============================] - 4s 20ms/step - loss: 0.6927 - acc: 0.7371 - val_loss: 0.5576 - val_acc: 0.7913\n",
      "Epoch 21/50\n",
      "218/218 [==============================] - 4s 20ms/step - loss: 0.6932 - acc: 0.7295 - val_loss: 0.5813 - val_acc: 0.7813\n",
      "Epoch 22/50\n",
      "218/218 [==============================] - 4s 20ms/step - loss: 0.6751 - acc: 0.7355 - val_loss: 0.5158 - val_acc: 0.8093\n",
      "Epoch 23/50\n",
      "218/218 [==============================] - 4s 20ms/step - loss: 0.6381 - acc: 0.7596 - val_loss: 0.4850 - val_acc: 0.8187\n",
      "Epoch 24/50\n",
      "218/218 [==============================] - 4s 21ms/step - loss: 0.6336 - acc: 0.7615 - val_loss: 0.4462 - val_acc: 0.8453\n",
      "Epoch 25/50\n",
      "218/218 [==============================] - 4s 20ms/step - loss: 0.6004 - acc: 0.7718 - val_loss: 0.4569 - val_acc: 0.8347\n",
      "Epoch 26/50\n",
      "218/218 [==============================] - 5s 21ms/step - loss: 0.6076 - acc: 0.7649 - val_loss: 0.4370 - val_acc: 0.8540\n",
      "Epoch 27/50\n",
      "218/218 [==============================] - 4s 20ms/step - loss: 0.6022 - acc: 0.7733 - val_loss: 0.5158 - val_acc: 0.8187\n",
      "Epoch 28/50\n",
      "218/218 [==============================] - 4s 19ms/step - loss: 0.5809 - acc: 0.7818 - val_loss: 0.4136 - val_acc: 0.8627\n",
      "Epoch 29/50\n",
      "218/218 [==============================] - 5s 21ms/step - loss: 0.5762 - acc: 0.7810 - val_loss: 0.3750 - val_acc: 0.8747\n",
      "Epoch 30/50\n",
      "218/218 [==============================] - 4s 20ms/step - loss: 0.5682 - acc: 0.7885 - val_loss: 0.4240 - val_acc: 0.8560\n",
      "Epoch 31/50\n",
      "218/218 [==============================] - 4s 20ms/step - loss: 0.5528 - acc: 0.7912 - val_loss: 0.4229 - val_acc: 0.8540\n",
      "Epoch 32/50\n",
      "218/218 [==============================] - 4s 19ms/step - loss: 0.5394 - acc: 0.7937 - val_loss: 0.3779 - val_acc: 0.8733\n",
      "Epoch 33/50\n",
      "218/218 [==============================] - 4s 20ms/step - loss: 0.5354 - acc: 0.7950 - val_loss: 0.3367 - val_acc: 0.8947\n",
      "Epoch 34/50\n",
      "218/218 [==============================] - 4s 20ms/step - loss: 0.5238 - acc: 0.8079 - val_loss: 0.3484 - val_acc: 0.8827\n",
      "Epoch 35/50\n",
      "218/218 [==============================] - 4s 20ms/step - loss: 0.5314 - acc: 0.8023 - val_loss: 0.3502 - val_acc: 0.8793\n",
      "Epoch 36/50\n",
      "218/218 [==============================] - 4s 20ms/step - loss: 0.5177 - acc: 0.8019 - val_loss: 0.3214 - val_acc: 0.8880\n",
      "Epoch 37/50\n",
      "218/218 [==============================] - 4s 19ms/step - loss: 0.5056 - acc: 0.8112 - val_loss: 0.3245 - val_acc: 0.8887\n",
      "Epoch 38/50\n",
      "218/218 [==============================] - 4s 21ms/step - loss: 0.4921 - acc: 0.8147 - val_loss: 0.2949 - val_acc: 0.9013\n",
      "Epoch 39/50\n",
      "218/218 [==============================] - 5s 21ms/step - loss: 0.4910 - acc: 0.8168 - val_loss: 0.2851 - val_acc: 0.9073\n",
      "Epoch 40/50\n",
      "218/218 [==============================] - 4s 20ms/step - loss: 0.4861 - acc: 0.8178 - val_loss: 0.2989 - val_acc: 0.9073\n",
      "Epoch 41/50\n",
      "218/218 [==============================] - 4s 20ms/step - loss: 0.4736 - acc: 0.8205 - val_loss: 0.2948 - val_acc: 0.8967\n",
      "Epoch 42/50\n",
      "218/218 [==============================] - 4s 20ms/step - loss: 0.4867 - acc: 0.8187 - val_loss: 0.3025 - val_acc: 0.9073\n",
      "Epoch 43/50\n",
      "218/218 [==============================] - 5s 21ms/step - loss: 0.4611 - acc: 0.8260 - val_loss: 0.2785 - val_acc: 0.9013\n",
      "Epoch 44/50\n",
      "218/218 [==============================] - 5s 21ms/step - loss: 0.4653 - acc: 0.8249 - val_loss: 0.2568 - val_acc: 0.9147\n",
      "Epoch 45/50\n",
      "218/218 [==============================] - 5s 21ms/step - loss: 0.4525 - acc: 0.8312 - val_loss: 0.2621 - val_acc: 0.9187\n",
      "Epoch 46/50\n",
      "218/218 [==============================] - 4s 20ms/step - loss: 0.4567 - acc: 0.8270 - val_loss: 0.2457 - val_acc: 0.9213\n",
      "Epoch 47/50\n",
      "218/218 [==============================] - 4s 20ms/step - loss: 0.4413 - acc: 0.8336 - val_loss: 0.2279 - val_acc: 0.9347\n",
      "Epoch 48/50\n",
      "218/218 [==============================] - 4s 20ms/step - loss: 0.4419 - acc: 0.8318 - val_loss: 0.2303 - val_acc: 0.9273\n",
      "Epoch 49/50\n",
      "218/218 [==============================] - 4s 20ms/step - loss: 0.4312 - acc: 0.8369 - val_loss: 0.2249 - val_acc: 0.9300\n",
      "Epoch 50/50\n",
      "218/218 [==============================] - 4s 20ms/step - loss: 0.4204 - acc: 0.8409 - val_loss: 0.2302 - val_acc: 0.9313\n"
     ]
    }
   ],
   "source": [
    "loss_hist = model.fit(x_train, y_train, validation_data = (x_valid, y_valid), epochs = 50, verbose=True)"
   ]
  },
  {
   "cell_type": "code",
   "execution_count": 17,
   "id": "fitted-ethnic",
   "metadata": {},
   "outputs": [
    {
     "data": {
      "text/plain": [
       "<matplotlib.legend.Legend at 0x22c9fd0faf0>"
      ]
     },
     "execution_count": 17,
     "metadata": {},
     "output_type": "execute_result"
    },
    {
     "data": {
      "image/png": "[encoded data removed]",
      "text/plain": [
       "<Figure size 1080x504 with 2 Axes>"
      ]
     },
     "metadata": {
      "needs_background": "light"
     },
     "output_type": "display_data"
    }
   ],
   "source": [
    "hist = loss_hist.history\n",
    "\n",
    "plt.figure(figsize=(15, 7))\n",
    "plt.subplot(1, 2, 1)\n",
    "plt.plot(hist['loss'])\n",
    "plt.plot(hist['val_loss'])\n",
    "plt.ylabel('loss')\n",
    "plt.xlabel('epoch')\n",
    "plt.legend(['train', 'val'])\n",
    "\n",
    "plt.subplot(1, 2, 2)\n",
    "plt.plot(hist['acc'])\n",
    "plt.plot(hist['val_acc'])\n",
    "plt.ylabel('acc')\n",
    "plt.xlabel('epoch')\n",
    "plt.legend(['train', 'val'])"
   ]
  },
  {
   "cell_type": "code",
   "execution_count": 18,
   "id": "alleged-equilibrium",
   "metadata": {},
   "outputs": [
    {
     "name": "stdout",
     "output_type": "stream",
     "text": [
      "Test accuracy:  0.6224604845046997\n"
     ]
    }
   ],
   "source": [
    "score = model.evaluate(x_test, y_test, verbose=0)\n",
    "print(\"Test accuracy: \", score[1])"
   ]
  }
 ],
 "metadata": {
  "kernelspec": {
   "display_name": "Python 3",
   "language": "python",
   "name": "python3"
  },
  "language_info": {
   "codemirror_mode": {
    "name": "ipython",
    "version": 3
   },
   "file_extension": ".py",
   "mimetype": "text/x-python",
   "name": "python",
   "nbconvert_exporter": "python",
   "pygments_lexer": "ipython3",
   "version": "3.8.8"
  }
 },
 "nbformat": 4,
 "nbformat_minor": 5
}
