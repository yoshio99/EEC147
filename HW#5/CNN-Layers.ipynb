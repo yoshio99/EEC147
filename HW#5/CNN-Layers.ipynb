{
 "cells": [
  {
   "cell_type": "markdown",
   "metadata": {},
   "source": [
    "## Convolutional neural network layers\n",
    "\n",
    "In this notebook, we will build the convolutional neural network layers.  This will be followed by a spatial batchnorm, and then in the final notebook of this assignment, we will train a CNN to further improve the validation accuracy on CIFAR-10.\n",
    "\n",
    "CS231n has built a solid API for building these modular frameworks and training them, and we will use their very well implemented framework as opposed to \"reinventing the wheel.\"  This includes using their Solver, various utility functions, their layer structure, and their implementation of fast CNN layers.  This also includes nndl.fc_net, nndl.layers, and nndl.layer_utils.  As in prior assignments, we thank Serena Yeung & Justin Johnson for permission to use code written for the CS 231n class (cs231n.stanford.edu).  "
   ]
  },
  {
   "cell_type": "code",
   "execution_count": 1,
   "metadata": {},
   "outputs": [],
   "source": [
    "## Import and setups\n",
    "\n",
    "import time\n",
    "import numpy as np\n",
    "import matplotlib.pyplot as plt\n",
    "from nndl.conv_layers import *\n",
    "from cs231n.data_utils import get_CIFAR10_data\n",
    "from cs231n.gradient_check import eval_numerical_gradient, eval_numerical_gradient_array\n",
    "from cs231n.solver import Solver\n",
    "\n",
    "%matplotlib inline\n",
    "plt.rcParams['figure.figsize'] = (10.0, 8.0) # set default size of plots\n",
    "plt.rcParams['image.interpolation'] = 'nearest'\n",
    "plt.rcParams['image.cmap'] = 'gray'\n",
    "\n",
    "# for auto-reloading external modules\n",
    "# see http://stackoverflow.com/questions/1907993/autoreload-of-modules-in-ipython\n",
    "%load_ext autoreload\n",
    "%autoreload 2\n",
    "\n",
    "def rel_error(x, y):\n",
    "  \"\"\" returns relative error \"\"\"\n",
    "  return np.max(np.abs(x - y) / (np.maximum(1e-8, np.abs(x) + np.abs(y))))"
   ]
  },
  {
   "cell_type": "markdown",
   "metadata": {},
   "source": [
    "## Implementing CNN layers\n",
    "\n",
    "Just as we implemented modular layers for fully connected networks, batch normalization, and dropout, we'll want to implement modular layers for convolutional neural networks.  These layers are in `nndl/conv_layers.py`."
   ]
  },
  {
   "cell_type": "markdown",
   "metadata": {},
   "source": [
    "### Convolutional forward pass\n",
    "\n",
    "Begin by implementing a naive version of the forward pass of the CNN that uses `for` loops.  This function is `conv_forward_naive` in `nndl/conv_layers.py`.  Don't worry about efficiency of implementation.  Later on, we provide a fast implementation of these layers.  This version ought to test your understanding of convolution.  In our implementation, there is a triple `for` loop.  \n",
    "\n",
    "After you implement `conv_forward_naive`, test your implementation by running the cell below."
   ]
  },
  {
   "cell_type": "code",
   "execution_count": 35,
   "metadata": {},
   "outputs": [
    {
     "name": "stdout",
     "output_type": "stream",
     "text": [
      "Testing conv_forward_naive\n",
      "difference:  2.2121476575931688e-08\n"
     ]
    }
   ],
   "source": [
    "x_shape = (2, 3, 4, 4)\n",
    "w_shape = (3, 3, 4, 4)\n",
    "x = np.linspace(-0.1, 0.5, num=np.prod(x_shape)).reshape(x_shape)\n",
    "w = np.linspace(-0.2, 0.3, num=np.prod(w_shape)).reshape(w_shape)\n",
    "b = np.linspace(-0.1, 0.2, num=3)\n",
    "\n",
    "conv_param = {'stride': 2, 'pad': 1}\n",
    "out, _ = conv_forward_naive(x, w, b, conv_param)\n",
    "correct_out = np.array([[[[-0.08759809, -0.10987781],\n",
    "                           [-0.18387192, -0.2109216 ]],\n",
    "                          [[ 0.21027089,  0.21661097],\n",
    "                           [ 0.22847626,  0.23004637]],\n",
    "                          [[ 0.50813986,  0.54309974],\n",
    "                           [ 0.64082444,  0.67101435]]],\n",
    "                         [[[-0.98053589, -1.03143541],\n",
    "                           [-1.19128892, -1.24695841]],\n",
    "                          [[ 0.69108355,  0.66880383],\n",
    "                           [ 0.59480972,  0.56776003]],\n",
    "                          [[ 2.36270298,  2.36904306],\n",
    "                           [ 2.38090835,  2.38247847]]]])\n",
    "\n",
    "# Compare your output to ours; difference should be around 1e-8\n",
    "print('Testing conv_forward_naive')\n",
    "print('difference: ', rel_error(out, correct_out))"
   ]
  },
  {
   "cell_type": "markdown",
   "metadata": {},
   "source": [
    "### Convolutional backward pass\n",
    "\n",
    "Now, implement a naive version of the backward pass of the CNN.  The function is `conv_backward_naive` in `nndl/conv_layers.py`.  Don't worry about efficiency of implementation.  Later on, we provide a fast implementation of these layers.  This version ought to test your understanding of convolution.  In our implementation, there is a quadruple `for` loop.  \n",
    "\n",
    "After you implement `conv_backward_naive`, test your implementation by running the cell below."
   ]
  },
  {
   "cell_type": "code",
   "execution_count": 39,
   "metadata": {},
   "outputs": [
    {
     "name": "stdout",
     "output_type": "stream",
     "text": [
      "Testing conv_backward_naive function\n",
      "dx error:  8.506996782581181e-09\n",
      "dw error:  2.622788618041454e-10\n",
      "db error:  6.4648009969833356e-12\n"
     ]
    }
   ],
   "source": [
    "x = np.random.randn(4, 3, 5, 5)\n",
    "w = np.random.randn(2, 3, 3, 3)\n",
    "b = np.random.randn(2,)\n",
    "dout = np.random.randn(4, 2, 5, 5)\n",
    "conv_param = {'stride': 1, 'pad': 1}\n",
    "\n",
    "out, cache = conv_forward_naive(x,w,b,conv_param)\n",
    "\n",
    "dx_num = eval_numerical_gradient_array(lambda x: conv_forward_naive(x, w, b, conv_param)[0], x, dout)\n",
    "dw_num = eval_numerical_gradient_array(lambda w: conv_forward_naive(x, w, b, conv_param)[0], w, dout)\n",
    "db_num = eval_numerical_gradient_array(lambda b: conv_forward_naive(x, w, b, conv_param)[0], b, dout)\n",
    "\n",
    "out, cache = conv_forward_naive(x, w, b, conv_param)\n",
    "dx, dw, db = conv_backward_naive(dout, cache)\n",
    "\n",
    "# Your errors should be around 1e-9'\n",
    "print('Testing conv_backward_naive function')\n",
    "print('dx error: ', rel_error(dx, dx_num))\n",
    "print('dw error: ', rel_error(dw, dw_num))\n",
    "print('db error: ', rel_error(db, db_num))"
   ]
  },
  {
   "cell_type": "markdown",
   "metadata": {},
   "source": [
    "### Max pool forward pass\n",
    "\n",
    "In this section, we will implement the forward pass of the max pool.  The function is `max_pool_forward_naive` in `nndl/conv_layers.py`.  Do not worry about the efficiency of implementation.\n",
    "\n",
    "After you implement `max_pool_forward_naive`, test your implementation by running the cell below."
   ]
  },
  {
   "cell_type": "code",
   "execution_count": 40,
   "metadata": {},
   "outputs": [
    {
     "name": "stdout",
     "output_type": "stream",
     "text": [
      "Testing max_pool_forward_naive function:\n",
      "difference:  4.1666665157267834e-08\n"
     ]
    }
   ],
   "source": [
    "x_shape = (2, 3, 4, 4)\n",
    "x = np.linspace(-0.3, 0.4, num=np.prod(x_shape)).reshape(x_shape)\n",
    "pool_param = {'pool_width': 2, 'pool_height': 2, 'stride': 2}\n",
    "\n",
    "out, _ = max_pool_forward_naive(x, pool_param)\n",
    "\n",
    "correct_out = np.array([[[[-0.26315789, -0.24842105],\n",
    "                          [-0.20421053, -0.18947368]],\n",
    "                         [[-0.14526316, -0.13052632],\n",
    "                          [-0.08631579, -0.07157895]],\n",
    "                         [[-0.02736842, -0.01263158],\n",
    "                          [ 0.03157895,  0.04631579]]],\n",
    "                        [[[ 0.09052632,  0.10526316],\n",
    "                          [ 0.14947368,  0.16421053]],\n",
    "                         [[ 0.20842105,  0.22315789],\n",
    "                          [ 0.26736842,  0.28210526]],\n",
    "                         [[ 0.32631579,  0.34105263],\n",
    "                          [ 0.38526316,  0.4       ]]]])\n",
    "\n",
    "# Compare your output with ours. Difference should be around 1e-8.\n",
    "print('Testing max_pool_forward_naive function:')\n",
    "print('difference: ', rel_error(out, correct_out))"
   ]
  },
  {
   "cell_type": "markdown",
   "metadata": {},
   "source": [
    "### Max pool backward pass \n",
    "\n",
    "In this section, you will implement the backward pass of the max pool.  The function is `max_pool_backward_naive` in `nndl/conv_layers.py`.  Do not worry about the efficiency of implementation.\n",
    "\n",
    "After you implement `max_pool_backward_naive`, test your implementation by running the cell below."
   ]
  },
  {
   "cell_type": "code",
   "execution_count": 43,
   "metadata": {},
   "outputs": [
    {
     "name": "stdout",
     "output_type": "stream",
     "text": [
      "Testing max_pool_backward_naive function:\n",
      "dx error:  3.2756257845158904e-12\n"
     ]
    }
   ],
   "source": [
    "x = np.random.randn(3, 2, 8, 8)\n",
    "dout = np.random.randn(3, 2, 4, 4)\n",
    "pool_param = {'pool_height': 2, 'pool_width': 2, 'stride': 2}\n",
    "\n",
    "dx_num = eval_numerical_gradient_array(lambda x: max_pool_forward_naive(x, pool_param)[0], x, dout)\n",
    "\n",
    "out, cache = max_pool_forward_naive(x, pool_param)\n",
    "dx = max_pool_backward_naive(dout, cache)\n",
    "\n",
    "# Your error should be around 1e-12\n",
    "print('Testing max_pool_backward_naive function:')\n",
    "print('dx error: ', rel_error(dx, dx_num))"
   ]
  },
  {
   "cell_type": "markdown",
   "metadata": {},
   "source": [
    "## Fast implementation of the CNN layers\n",
    "\n",
    "Implementing fast versions of the CNN layers can be difficult.  We will provide you with the fast layers implemented by cs231n.  They are provided in `cs231n/fast_layers.py`.\n",
    "\n",
    "The fast convolution implementation depends on a Cython extension; to compile it you need to run the following from the `cs231n` directory:\n",
    "\n",
    "```bash\n",
    "python setup.py build_ext --inplace\n",
    "```\n",
    "\n",
    "**NOTE:** The fast implementation for pooling will only perform optimally if the pooling regions are non-overlapping and tile the input. If these conditions are not met then the fast pooling implementation will not be much faster than the naive implementation.\n",
    "\n",
    "You can compare the performance of the naive and fast versions of these layers by running the cell below.\n",
    "\n",
    "You should see pretty drastic speedups in the implementation of these layers.  On our machine, the forward pass speeds up by 17x and the backward pass speeds up by 840x.  Of course, these numbers will vary from machine to machine, as well as on your precise implementation of the naive layers."
   ]
  },
  {
   "cell_type": "code",
   "execution_count": 44,
   "metadata": {},
   "outputs": [
    {
     "name": "stdout",
     "output_type": "stream",
     "text": [
      "Testing conv_forward_fast:\n",
      "Naive: 0.103000s\n",
      "Fast: 0.028001s\n",
      "Speedup: 3.678468x\n",
      "Difference:  0.0\n",
      "\n",
      "Testing conv_backward_fast:\n",
      "Naive: 0.169498s\n",
      "Fast: 0.035505s\n",
      "Speedup: 4.773904x\n",
      "dx difference:  2.7823799314200234e-13\n",
      "dw difference:  6.336067836972918e-14\n",
      "db difference:  0.0\n"
     ]
    }
   ],
   "source": [
    "from cs231n.fast_layers import conv_forward_fast, conv_backward_fast\n",
    "from time import time\n",
    "\n",
    "x = np.random.randn(100, 3, 31, 31)\n",
    "w = np.random.randn(25, 3, 3, 3)\n",
    "b = np.random.randn(25,)\n",
    "dout = np.random.randn(100, 25, 16, 16)\n",
    "conv_param = {'stride': 2, 'pad': 1}\n",
    "\n",
    "t0 = time()\n",
    "out_naive, cache_naive = conv_forward_naive(x, w, b, conv_param)\n",
    "t1 = time()\n",
    "out_fast, cache_fast = conv_forward_fast(x, w, b, conv_param)\n",
    "t2 = time()\n",
    "\n",
    "print('Testing conv_forward_fast:')\n",
    "print('Naive: %fs' % (t1 - t0))\n",
    "print('Fast: %fs' % (t2 - t1))\n",
    "print('Speedup: %fx' % ((t1 - t0) / (t2 - t1)))\n",
    "print('Difference: ', rel_error(out_naive, out_fast))\n",
    "\n",
    "t0 = time()\n",
    "dx_naive, dw_naive, db_naive = conv_backward_naive(dout, cache_naive)\n",
    "t1 = time()\n",
    "dx_fast, dw_fast, db_fast = conv_backward_fast(dout, cache_fast)\n",
    "t2 = time()\n",
    "\n",
    "print('\\nTesting conv_backward_fast:')\n",
    "print('Naive: %fs' % (t1 - t0))\n",
    "print('Fast: %fs' % (t2 - t1))\n",
    "print('Speedup: %fx' % ((t1 - t0) / (t2 - t1)))\n",
    "print('dx difference: ', rel_error(dx_naive, dx_fast))\n",
    "print('dw difference: ', rel_error(dw_naive, dw_fast))\n",
    "print('db difference: ', rel_error(db_naive, db_fast))"
   ]
  },
  {
   "cell_type": "code",
   "execution_count": 45,
   "metadata": {},
   "outputs": [
    {
     "name": "stdout",
     "output_type": "stream",
     "text": [
      "Testing pool_forward_fast:\n",
      "Naive: 0.146500s\n",
      "fast: 0.003499s\n",
      "speedup: 41.868697x\n",
      "difference:  0.0\n",
      "\n",
      "Testing pool_backward_fast:\n",
      "Naive: 0.310500s\n",
      "speedup: 6.088172x\n",
      "dx difference:  0.0\n"
     ]
    }
   ],
   "source": [
    "from cs231n.fast_layers import max_pool_forward_fast, max_pool_backward_fast\n",
    "\n",
    "x = np.random.randn(100, 3, 32, 32)\n",
    "dout = np.random.randn(100, 3, 16, 16)\n",
    "pool_param = {'pool_height': 2, 'pool_width': 2, 'stride': 2}\n",
    "\n",
    "t0 = time()\n",
    "out_naive, cache_naive = max_pool_forward_naive(x, pool_param)\n",
    "t1 = time()\n",
    "out_fast, cache_fast = max_pool_forward_fast(x, pool_param)\n",
    "t2 = time()\n",
    "\n",
    "print('Testing pool_forward_fast:')\n",
    "print('Naive: %fs' % (t1 - t0))\n",
    "print('fast: %fs' % (t2 - t1))\n",
    "print('speedup: %fx' % ((t1 - t0) / (t2 - t1)))\n",
    "print('difference: ', rel_error(out_naive, out_fast))\n",
    "\n",
    "t0 = time()\n",
    "dx_naive = max_pool_backward_naive(dout, cache_naive)\n",
    "t1 = time()\n",
    "dx_fast = max_pool_backward_fast(dout, cache_fast)\n",
    "t2 = time()\n",
    "\n",
    "print('\\nTesting pool_backward_fast:')\n",
    "print('Naive: %fs' % (t1 - t0))\n",
    "print('speedup: %fx' % ((t1 - t0) / (t2 - t1)))\n",
    "print('dx difference: ', rel_error(dx_naive, dx_fast))"
   ]
  },
  {
   "cell_type": "markdown",
   "metadata": {},
   "source": [
    "## Implementation of cascaded layers\n",
    "\n",
    "We've provided the following functions in `nndl/conv_layer_utils.py`:\n",
    "    - conv_relu_forward\n",
    "    - conv_relu_backward\n",
    "    - conv_relu_pool_forward\n",
    "    - conv_relu_pool_backward\n",
    "    \n",
    "These use the fast implementations of the conv net layers.  You can test them below:"
   ]
  },
  {
   "cell_type": "code",
   "execution_count": 47,
   "metadata": {},
   "outputs": [
    {
     "name": "stdout",
     "output_type": "stream",
     "text": [
      "Testing conv_relu_pool\n",
      "dx error:  2.265393378794192e-09\n",
      "dw error:  6.851958402961541e-09\n",
      "db error:  1.6411928202568105e-10\n"
     ]
    }
   ],
   "source": [
    "from nndl.conv_layer_utils import conv_relu_pool_forward, conv_relu_pool_backward\n",
    "\n",
    "x = np.random.randn(2, 3, 16, 16)\n",
    "w = np.random.randn(3, 3, 3, 3)\n",
    "b = np.random.randn(3,)\n",
    "dout = np.random.randn(2, 3, 8, 8)\n",
    "conv_param = {'stride': 1, 'pad': 1}\n",
    "pool_param = {'pool_height': 2, 'pool_width': 2, 'stride': 2}\n",
    "\n",
    "out, cache = conv_relu_pool_forward(x, w, b, conv_param, pool_param)\n",
    "dx, dw, db = conv_relu_pool_backward(dout, cache)\n",
    "\n",
    "dx_num = eval_numerical_gradient_array(lambda x: conv_relu_pool_forward(x, w, b, conv_param, pool_param)[0], x, dout)\n",
    "dw_num = eval_numerical_gradient_array(lambda w: conv_relu_pool_forward(x, w, b, conv_param, pool_param)[0], w, dout)\n",
    "db_num = eval_numerical_gradient_array(lambda b: conv_relu_pool_forward(x, w, b, conv_param, pool_param)[0], b, dout)\n",
    "\n",
    "print('Testing conv_relu_pool')\n",
    "print('dx error: ', rel_error(dx_num, dx))\n",
    "print('dw error: ', rel_error(dw_num, dw))\n",
    "print('db error: ', rel_error(db_num, db))"
   ]
  },
  {
   "cell_type": "code",
   "execution_count": 48,
   "metadata": {},
   "outputs": [
    {
     "name": "stdout",
     "output_type": "stream",
     "text": [
      "Testing conv_relu:\n",
      "dx error:  3.0181645893204925e-09\n",
      "dw error:  3.4951489306761964e-09\n",
      "db error:  2.2515624568195693e-10\n"
     ]
    }
   ],
   "source": [
    "from nndl.conv_layer_utils import conv_relu_forward, conv_relu_backward\n",
    "\n",
    "x = np.random.randn(2, 3, 8, 8)\n",
    "w = np.random.randn(3, 3, 3, 3)\n",
    "b = np.random.randn(3,)\n",
    "dout = np.random.randn(2, 3, 8, 8)\n",
    "conv_param = {'stride': 1, 'pad': 1}\n",
    "\n",
    "out, cache = conv_relu_forward(x, w, b, conv_param)\n",
    "dx, dw, db = conv_relu_backward(dout, cache)\n",
    "\n",
    "dx_num = eval_numerical_gradient_array(lambda x: conv_relu_forward(x, w, b, conv_param)[0], x, dout)\n",
    "dw_num = eval_numerical_gradient_array(lambda w: conv_relu_forward(x, w, b, conv_param)[0], w, dout)\n",
    "db_num = eval_numerical_gradient_array(lambda b: conv_relu_forward(x, w, b, conv_param)[0], b, dout)\n",
    "\n",
    "print('Testing conv_relu:')\n",
    "print('dx error: ', rel_error(dx_num, dx))\n",
    "print('dw error: ', rel_error(dw_num, dw))\n",
    "print('db error: ', rel_error(db_num, db))"
   ]
  },
  {
   "cell_type": "markdown",
   "metadata": {},
   "source": [
    "## What next?\n",
    "\n",
    "We saw how helpful batch normalization was for training FC nets.  In the next notebook, we'll implement a batch normalization for convolutional neural networks, and then finish off by implementing a CNN to improve our validation accuracy on CIFAR-10."
   ]
  },
  {
   "cell_type": "code",
   "execution_count": 1,
   "metadata": {},
   "outputs": [
    {
     "data": {
      "text/plain": [
       "'\\ndef conv_forward_naive(x, w, b, conv_param):\\n  \"\"\"\\n  A naive implementation of the forward pass for a convolutional layer.\\n\\n  The input consists of N data points, each with C channels, height H and width\\n  W. We convolve each input with F different filters, where each filter spans\\n  all C channels and has height HH and width WW.\\n\\n  Input:\\n  - x: Input data of shape (N, C, H, W)\\n  - w: Filter weights of shape (F, C, HH, WW)\\n  - b: Biases, of shape (F,)\\n  - conv_param: A dictionary with the following keys:\\n    - \\'stride\\': The number of pixels between adjacent receptive fields in the\\n      horizontal and vertical directions.\\n    - \\'pad\\': The number of pixels that will be used to zero-pad the input.\\n\\n  Returns a tuple of:\\n  - out: Output data, of shape (N, F, H\\', W\\') where H\\' and W\\' are given by\\n    H\\' = 1 + (H + 2 * pad - HH) / stride\\n    W\\' = 1 + (W + 2 * pad - WW) / stride\\n  - cache: (x, w, b, conv_param)\\n  \"\"\"\\n  out = None\\n  pad = conv_param[\\'pad\\']\\n  stride = conv_param[\\'stride\\']\\n\\n  # ================================================================ #\\n  # YOUR CODE HERE:\\n  #   Implement the forward pass of a convolutional neural network.\\n  #   Store the output as \\'out\\'.\\n  #   Hint: to pad the array, you can use the function np.pad.\\n  # ================================================================ #\\n  N = x.shape[0]\\n  F = w.shape[0]\\n  H = x.shape[2]\\n  W = x.shape[3]\\n  HH = w.shape[2]\\n  WW = w.shape[3]\\n  C = x.shape[1]\\n  H_prime = 1 + (H + 2 * pad - HH) // stride\\n  W_prime = 1 + (W + 2 * pad - WW) // stride\\n  out = np.zeros((N, F, H_prime, W_prime))\\n  xpad = np.pad(x, ((0,0), (0,0), (pad,pad), (pad,pad)), mode=\\'constant\\', constant_values=0)\\n  w_reshape = w.reshape(F, C*HH*WW)\\n  x_reshape = np.zeros((C*HH*WW, H_prime*W_prime))\\n  for i in range(N):\\n    node = 0\\n    for j in np.arange(0, xpad.shape[2]-HH+1, stride):\\n      for k in np.arange(0, xpad.shape[3]-WW+1, stride):\\n          x_reshape[:, node] = xpad[i,:,j:j+HH,k:k+WW].reshape(C*HH*WW)\\n          node = node + 1\\n    out[i] = (np.dot(w_reshape, x_reshape) + b.reshape((F,1))).reshape(F, H_prime, W_prime)\\n  # ================================================================ #\\n  # END YOUR CODE HERE\\n  # ================================================================ #\\n    \\n  cache = (x, w, b, conv_param)\\n  return out, cache\\n\\n\\ndef conv_backward_naive(dout, cache):\\n  \"\"\"\\n  A naive implementation of the backward pass for a convolutional layer.\\n\\n  Inputs:\\n  - dout: Upstream derivatives.\\n  - cache: A tuple of (x, w, b, conv_param) as in conv_forward_naive\\n\\n  Returns a tuple of:\\n  - dx: Gradient with respect to x\\n  - dw: Gradient with respect to w\\n  - db: Gradient with respect to b\\n  \"\"\"\\n  dx, dw, db = None, None, None\\n\\n  N, F, out_height, out_width = dout.shape\\n  x, w, b, conv_param = cache\\n  \\n  stride, pad = [conv_param[\\'stride\\'], conv_param[\\'pad\\']]\\n  xpad = np.pad(x, ((0,0), (0,0), (pad,pad), (pad,pad)), mode=\\'constant\\', constant_values=0)\\n  num_filts, _, f_height, f_width = w.shape\\n\\n  # ================================================================ #\\n  # YOUR CODE HERE:\\n  #   Implement the backward pass of a convolutional neural network.\\n  #   Calculate the gradients: dx, dw, and db.\\n  # ================================================================ #\\n  N, C, H, W = x.shape\\n  F, C, HH, WW = w.shape\\n  N, C, padded_H, padded_W = xpad.shape\\n  dx = np.zeros((N, C, H, W))\\n  dw = np.zeros(w.shape)\\n  db = np.zeros(b.shape)\\n  w_reshape = w.reshape(F, C*HH*WW)\\n  x_reshape = np.zeros((C*HH*WW, out_height * out_width))\\n  for i in range(N):\\n    out_reshape = dout[i].reshape(F, out_height * out_width)\\n    w_temp = np.dot(w_reshape.T, out_reshape)\\n    dx_temp = np.zeros((C, padded_H, padded_W))\\n    node = 0\\n    for j in range(0, padded_H-HH+1, stride):\\n        for k in range(0, padded_W-WW+1, stride):\\n            dx_temp[:,j:j+HH,k:k+WW] = dx_temp[:,j:j+HH,k:k+WW] + w_temp[:,node].reshape(C,HH,WW)\\n            x_reshape[:,node] = xpad[i,:,j:j+HH,k:k+WW].reshape(C*HH*WW)\\n            node = node + 1\\n    dx[i] = dx_temp[:,pad:-pad,pad:-pad]\\n    dw = dw + np.dot(out_reshape, x_reshape.T).reshape(F,C,HH,WW)\\n    db = db + np.sum(out_reshape, axis=1)\\n  # ================================================================ #\\n  # END YOUR CODE HERE\\n  # ================================================================ #\\n\\n  return dx, dw, db\\n\\n\\ndef max_pool_forward_naive(x, pool_param):\\n  \"\"\"\\n  A naive implementation of the forward pass for a max pooling layer.\\n\\n  Inputs:\\n  - x: Input data, of shape (N, C, H, W)\\n  - pool_param: dictionary with the following keys:\\n    - \\'pool_height\\': The height of each pooling region\\n    - \\'pool_width\\': The width of each pooling region\\n    - \\'stride\\': The distance between adjacent pooling regions\\n\\n  Returns a tuple of:\\n  - out: Output data\\n  - cache: (x, pool_param)\\n  \"\"\"\\n  out = None\\n  \\n  # ================================================================ #\\n  # YOUR CODE HERE:\\n  #   Implement the max pooling forward pass.\\n  # ================================================================ #\\n  N, C, H, W = x.shape\\n  pool_height = pool_param[\\'pool_height\\']\\n  pool_width = pool_param[\\'pool_width\\']\\n  stride = pool_param[\\'stride\\']\\n  H_prime = 1 + (H - pool_height) // stride\\n  W_prime = 1 + (W - pool_width) // stride\\n  out = np.zeros((N, C, H_prime, W_prime))\\n  x_reshape = np.zeros((C*H*W, H_prime*W_prime))\\n  for i in range(N):\\n    out_region = np.zeros((C, H_prime * W_prime))\\n    node = 0\\n    for j in np.arange(0, H-pool_height+1, stride):\\n      for k in np.arange(0, W-pool_width+1, stride):\\n          x_down = x[i,:,j:j+pool_height,k:k+pool_width].reshape(C, pool_height * pool_width)\\n          out_region[:, node] = np.max(x_down, axis=1)\\n          node = node + 1\\n    out[i] = out_region.reshape(C, H_prime, W_prime)\\n\\n  # ================================================================ #\\n  # END YOUR CODE HERE\\n  # ================================================================ # \\n  cache = (x, pool_param)\\n  return out, cache\\n\\ndef max_pool_backward_naive(dout, cache):\\n  \"\"\"\\n  A naive implementation of the backward pass for a max pooling layer.\\n\\n  Inputs:\\n  - dout: Upstream derivatives\\n  - cache: A tuple of (x, pool_param) as in the forward pass.\\n\\n  Returns:\\n  - dx: Gradient with respect to x\\n  \"\"\"\\n  dx = None\\n  x, pool_param = cache\\n  pool_height, pool_width, stride = pool_param[\\'pool_height\\'], pool_param[\\'pool_width\\'], pool_param[\\'stride\\']\\n\\n  # ================================================================ #\\n  # YOUR CODE HERE:\\n  #   Implement the max pooling backward pass.\\n  # ================================================================ #\\n  N, C, H, W = x.shape\\n  N, C, H_prime, W_prime = dout.shape\\n  dx = np.zeros((N, C, H, W))\\n  for i in range(N):\\n    out_reshape = dout[i].reshape(C, H_prime * W_prime)\\n    node = 0\\n    for j in range(0, H-pool_height+1, stride):\\n        for k in range(0, W-pool_width+1, stride):\\n            x_down = x[i,:,j:j+pool_height,k:k+pool_width].reshape(C, pool_height * pool_width)\\n            indices = np.argmax(x_down, axis=1)\\n            out_region = out_reshape[:,node]\\n            node = node + 1\\n            d_pool = np.zeros(x_down.shape)\\n            channels = np.arange(C)\\n            d_pool[channels, indices] = out_region\\n            dx[i,:,j:j+pool_height,k:k+pool_width] = dx[i,:,j:j+pool_height,k:k+pool_width] + d_pool.reshape(C, pool_height, pool_width)\\n\\n  # ================================================================ #\\n  # END YOUR CODE HERE\\n  # ================================================================ # \\n\\n  return dx\\n\\ndef spatial_batchnorm_forward(x, gamma, beta, bn_param):\\n  \"\"\"\\n  Computes the forward pass for spatial batch normalization.\\n  \\n  Inputs:\\n  - x: Input data of shape (N, C, H, W)\\n  - gamma: Scale parameter, of shape (C,)\\n  - beta: Shift parameter, of shape (C,)\\n  - bn_param: Dictionary with the following keys:\\n    - mode: \\'train\\' or \\'test\\'; required\\n    - eps: Constant for numeric stability\\n    - momentum: Constant for running mean / variance. momentum=0 means that\\n      old information is discarded completely at every time step, while\\n      momentum=1 means that new information is never incorporated. The\\n      default of momentum=0.9 should work well in most situations.\\n    - running_mean: Array of shape (D,) giving running mean of features\\n    - running_var Array of shape (D,) giving running variance of features\\n    \\n  Returns a tuple of:\\n  - out: Output data, of shape (N, C, H, W)\\n  - cache: Values needed for the backward pass\\n  \"\"\"\\n  out, cache = None, None\\n\\n  # ================================================================ #\\n  # YOUR CODE HERE:\\n  #   Implement the spatial batchnorm forward pass.\\n  #\\n  #   You may find it useful to use the batchnorm forward pass you \\n  #   implemented in HW #4.\\n  # ================================================================ #\\n  N, C, H, W = x.shape\\n  x_reshape = x.reshape((N*H*W, C))\\n  mode = bn_param[\\'mode\\']\\n  eps = bn_param.get(\\'eps\\', 1e-5)\\n  momentum = bn_param.get(\\'momentum\\', 0.9)\\n  running_mean = bn_param.get(\\'running_mean\\', np.zeros(C, dtype=x_reshape.dtype))\\n  running_var = bn_param.get(\\'running_var\\', np.zeros(C, dtype=x_reshape.dtype))\\n    \\n  sample_mean = x_reshape.mean(axis=0)\\n  sample_var = x_reshape.var(axis=0) + eps\\n  std = np.sqrt(sample_var)\\n  x_hat = (x_reshape - sample_mean) / std\\n  out = gamma * x_hat + beta\\n  running_mean = momentum * running_mean + (1 - momentum) * sample_mean\\n  running_var = momentum * running_var + (1 - momentum) * sample_var\\n  cache = {\\'x\\':x_reshape, \\'mean\\':sample_mean, \\'var\\':sample_var, \\'std\\':std, \\'x_hat\\':x_hat, \\'gamma\\':gamma, \\'beta\\':beta}  \\n  out = out.reshape((N, C, H, W))\\n\\n  # ================================================================ #\\n  # END YOUR CODE HERE\\n  # ================================================================ # \\n\\n  return out, cache\\n\\n\\ndef spatial_batchnorm_backward(dout, cache):\\n  \"\"\"\\n  Computes the backward pass for spatial batch normalization.\\n  \\n  Inputs:\\n  - dout: Upstream derivatives, of shape (N, C, H, W)\\n  - cache: Values from the forward pass\\n  \\n  Returns a tuple of:\\n  - dx: Gradient with respect to inputs, of shape (N, C, H, W)\\n  - dgamma: Gradient with respect to scale parameter, of shape (C,)\\n  - dbeta: Gradient with respect to shift parameter, of shape (C,)\\n  \"\"\"\\n  dx, dgamma, dbeta = None, None, None\\n\\n  # ================================================================ #\\n  # YOUR CODE HERE:\\n  #   Implement the spatial batchnorm backward pass.\\n  #\\n  #   You may find it useful to use the batchnorm backward pass you \\n  #   implemented in HW #4.\\n  # ================================================================ #\\n  N, C, H, W = dout.shape\\n  dout = dout.reshape((N*H*W, C))\\n\\n  dbeta = np.sum(dout, axis=0)\\n  dgamma = np.sum(dout * cache[\\'x_hat\\'], axis=0)\\n    \\n  D = dout.shape[0]\\n  dx_hat = dout * cache[\\'gamma\\']\\n  dsample_var = np.sum((cache[\\'x\\'] - cache[\\'mean\\']) * dx_hat, axis=0) * (-1 / (2 * (cache[\\'var\\'] ** (3/2))))\\n  dsample_mean = -((np.sum(dx_hat, axis=0) / cache[\\'std\\']) + (dsample_var * (2/D) * np.sum(cache[\\'x\\'] - cache[\\'mean\\'], axis = 0)))\\n  dx = (dx_hat / cache[\\'std\\']) + (((2 * (cache[\\'x\\'] - cache[\\'mean\\'])) / D) * dsample_var) + (dsample_mean / D)\\n  dx = dx.reshape((N, C, H, W))\\n\\n  # ================================================================ #\\n  # END YOUR CODE HERE\\n  # ================================================================ # \\n\\n  return dx, dgamma, dbeta\\n'"
      ]
     },
     "execution_count": 1,
     "metadata": {},
     "output_type": "execute_result"
    }
   ],
   "source": [
    "#Below are the relevant code sections for this part\n",
    "\n",
    "'''\n",
    "def conv_forward_naive(x, w, b, conv_param):\n",
    "  \"\"\"\n",
    "  A naive implementation of the forward pass for a convolutional layer.\n",
    "\n",
    "  The input consists of N data points, each with C channels, height H and width\n",
    "  W. We convolve each input with F different filters, where each filter spans\n",
    "  all C channels and has height HH and width WW.\n",
    "\n",
    "  Input:\n",
    "  - x: Input data of shape (N, C, H, W)\n",
    "  - w: Filter weights of shape (F, C, HH, WW)\n",
    "  - b: Biases, of shape (F,)\n",
    "  - conv_param: A dictionary with the following keys:\n",
    "    - 'stride': The number of pixels between adjacent receptive fields in the\n",
    "      horizontal and vertical directions.\n",
    "    - 'pad': The number of pixels that will be used to zero-pad the input.\n",
    "\n",
    "  Returns a tuple of:\n",
    "  - out: Output data, of shape (N, F, H', W') where H' and W' are given by\n",
    "    H' = 1 + (H + 2 * pad - HH) / stride\n",
    "    W' = 1 + (W + 2 * pad - WW) / stride\n",
    "  - cache: (x, w, b, conv_param)\n",
    "  \"\"\"\n",
    "  out = None\n",
    "  pad = conv_param['pad']\n",
    "  stride = conv_param['stride']\n",
    "\n",
    "  # ================================================================ #\n",
    "  # YOUR CODE HERE:\n",
    "  #   Implement the forward pass of a convolutional neural network.\n",
    "  #   Store the output as 'out'.\n",
    "  #   Hint: to pad the array, you can use the function np.pad.\n",
    "  # ================================================================ #\n",
    "  N = x.shape[0]\n",
    "  F = w.shape[0]\n",
    "  H = x.shape[2]\n",
    "  W = x.shape[3]\n",
    "  HH = w.shape[2]\n",
    "  WW = w.shape[3]\n",
    "  C = x.shape[1]\n",
    "  H_prime = 1 + (H + 2 * pad - HH) // stride\n",
    "  W_prime = 1 + (W + 2 * pad - WW) // stride\n",
    "  out = np.zeros((N, F, H_prime, W_prime))\n",
    "  xpad = np.pad(x, ((0,0), (0,0), (pad,pad), (pad,pad)), mode='constant', constant_values=0)\n",
    "  w_reshape = w.reshape(F, C*HH*WW)\n",
    "  x_reshape = np.zeros((C*HH*WW, H_prime*W_prime))\n",
    "  for i in range(N):\n",
    "    node = 0\n",
    "    for j in np.arange(0, xpad.shape[2]-HH+1, stride):\n",
    "      for k in np.arange(0, xpad.shape[3]-WW+1, stride):\n",
    "          x_reshape[:, node] = xpad[i,:,j:j+HH,k:k+WW].reshape(C*HH*WW)\n",
    "          node = node + 1\n",
    "    out[i] = (np.dot(w_reshape, x_reshape) + b.reshape((F,1))).reshape(F, H_prime, W_prime)\n",
    "  # ================================================================ #\n",
    "  # END YOUR CODE HERE\n",
    "  # ================================================================ #\n",
    "    \n",
    "  cache = (x, w, b, conv_param)\n",
    "  return out, cache\n",
    "\n",
    "\n",
    "def conv_backward_naive(dout, cache):\n",
    "  \"\"\"\n",
    "  A naive implementation of the backward pass for a convolutional layer.\n",
    "\n",
    "  Inputs:\n",
    "  - dout: Upstream derivatives.\n",
    "  - cache: A tuple of (x, w, b, conv_param) as in conv_forward_naive\n",
    "\n",
    "  Returns a tuple of:\n",
    "  - dx: Gradient with respect to x\n",
    "  - dw: Gradient with respect to w\n",
    "  - db: Gradient with respect to b\n",
    "  \"\"\"\n",
    "  dx, dw, db = None, None, None\n",
    "\n",
    "  N, F, out_height, out_width = dout.shape\n",
    "  x, w, b, conv_param = cache\n",
    "  \n",
    "  stride, pad = [conv_param['stride'], conv_param['pad']]\n",
    "  xpad = np.pad(x, ((0,0), (0,0), (pad,pad), (pad,pad)), mode='constant', constant_values=0)\n",
    "  num_filts, _, f_height, f_width = w.shape\n",
    "\n",
    "  # ================================================================ #\n",
    "  # YOUR CODE HERE:\n",
    "  #   Implement the backward pass of a convolutional neural network.\n",
    "  #   Calculate the gradients: dx, dw, and db.\n",
    "  # ================================================================ #\n",
    "  N, C, H, W = x.shape\n",
    "  F, C, HH, WW = w.shape\n",
    "  N, C, padded_H, padded_W = xpad.shape\n",
    "  dx = np.zeros((N, C, H, W))\n",
    "  dw = np.zeros(w.shape)\n",
    "  db = np.zeros(b.shape)\n",
    "  w_reshape = w.reshape(F, C*HH*WW)\n",
    "  x_reshape = np.zeros((C*HH*WW, out_height * out_width))\n",
    "  for i in range(N):\n",
    "    out_reshape = dout[i].reshape(F, out_height * out_width)\n",
    "    w_temp = np.dot(w_reshape.T, out_reshape)\n",
    "    dx_temp = np.zeros((C, padded_H, padded_W))\n",
    "    node = 0\n",
    "    for j in range(0, padded_H-HH+1, stride):\n",
    "        for k in range(0, padded_W-WW+1, stride):\n",
    "            dx_temp[:,j:j+HH,k:k+WW] = dx_temp[:,j:j+HH,k:k+WW] + w_temp[:,node].reshape(C,HH,WW)\n",
    "            x_reshape[:,node] = xpad[i,:,j:j+HH,k:k+WW].reshape(C*HH*WW)\n",
    "            node = node + 1\n",
    "    dx[i] = dx_temp[:,pad:-pad,pad:-pad]\n",
    "    dw = dw + np.dot(out_reshape, x_reshape.T).reshape(F,C,HH,WW)\n",
    "    db = db + np.sum(out_reshape, axis=1)\n",
    "  # ================================================================ #\n",
    "  # END YOUR CODE HERE\n",
    "  # ================================================================ #\n",
    "\n",
    "  return dx, dw, db\n",
    "\n",
    "\n",
    "def max_pool_forward_naive(x, pool_param):\n",
    "  \"\"\"\n",
    "  A naive implementation of the forward pass for a max pooling layer.\n",
    "\n",
    "  Inputs:\n",
    "  - x: Input data, of shape (N, C, H, W)\n",
    "  - pool_param: dictionary with the following keys:\n",
    "    - 'pool_height': The height of each pooling region\n",
    "    - 'pool_width': The width of each pooling region\n",
    "    - 'stride': The distance between adjacent pooling regions\n",
    "\n",
    "  Returns a tuple of:\n",
    "  - out: Output data\n",
    "  - cache: (x, pool_param)\n",
    "  \"\"\"\n",
    "  out = None\n",
    "  \n",
    "  # ================================================================ #\n",
    "  # YOUR CODE HERE:\n",
    "  #   Implement the max pooling forward pass.\n",
    "  # ================================================================ #\n",
    "  N, C, H, W = x.shape\n",
    "  pool_height = pool_param['pool_height']\n",
    "  pool_width = pool_param['pool_width']\n",
    "  stride = pool_param['stride']\n",
    "  H_prime = 1 + (H - pool_height) // stride\n",
    "  W_prime = 1 + (W - pool_width) // stride\n",
    "  out = np.zeros((N, C, H_prime, W_prime))\n",
    "  x_reshape = np.zeros((C*H*W, H_prime*W_prime))\n",
    "  for i in range(N):\n",
    "    out_region = np.zeros((C, H_prime * W_prime))\n",
    "    node = 0\n",
    "    for j in np.arange(0, H-pool_height+1, stride):\n",
    "      for k in np.arange(0, W-pool_width+1, stride):\n",
    "          x_down = x[i,:,j:j+pool_height,k:k+pool_width].reshape(C, pool_height * pool_width)\n",
    "          out_region[:, node] = np.max(x_down, axis=1)\n",
    "          node = node + 1\n",
    "    out[i] = out_region.reshape(C, H_prime, W_prime)\n",
    "\n",
    "  # ================================================================ #\n",
    "  # END YOUR CODE HERE\n",
    "  # ================================================================ # \n",
    "  cache = (x, pool_param)\n",
    "  return out, cache\n",
    "\n",
    "def max_pool_backward_naive(dout, cache):\n",
    "  \"\"\"\n",
    "  A naive implementation of the backward pass for a max pooling layer.\n",
    "\n",
    "  Inputs:\n",
    "  - dout: Upstream derivatives\n",
    "  - cache: A tuple of (x, pool_param) as in the forward pass.\n",
    "\n",
    "  Returns:\n",
    "  - dx: Gradient with respect to x\n",
    "  \"\"\"\n",
    "  dx = None\n",
    "  x, pool_param = cache\n",
    "  pool_height, pool_width, stride = pool_param['pool_height'], pool_param['pool_width'], pool_param['stride']\n",
    "\n",
    "  # ================================================================ #\n",
    "  # YOUR CODE HERE:\n",
    "  #   Implement the max pooling backward pass.\n",
    "  # ================================================================ #\n",
    "  N, C, H, W = x.shape\n",
    "  N, C, H_prime, W_prime = dout.shape\n",
    "  dx = np.zeros((N, C, H, W))\n",
    "  for i in range(N):\n",
    "    out_reshape = dout[i].reshape(C, H_prime * W_prime)\n",
    "    node = 0\n",
    "    for j in range(0, H-pool_height+1, stride):\n",
    "        for k in range(0, W-pool_width+1, stride):\n",
    "            x_down = x[i,:,j:j+pool_height,k:k+pool_width].reshape(C, pool_height * pool_width)\n",
    "            indices = np.argmax(x_down, axis=1)\n",
    "            out_region = out_reshape[:,node]\n",
    "            node = node + 1\n",
    "            d_pool = np.zeros(x_down.shape)\n",
    "            channels = np.arange(C)\n",
    "            d_pool[channels, indices] = out_region\n",
    "            dx[i,:,j:j+pool_height,k:k+pool_width] = dx[i,:,j:j+pool_height,k:k+pool_width] + d_pool.reshape(C, pool_height, pool_width)\n",
    "\n",
    "  # ================================================================ #\n",
    "  # END YOUR CODE HERE\n",
    "  # ================================================================ # \n",
    "\n",
    "  return dx\n",
    "'''"
   ]
  },
  {
   "cell_type": "code",
   "execution_count": null,
   "metadata": {},
   "outputs": [],
   "source": []
  }
 ],
 "metadata": {
  "kernelspec": {
   "display_name": "Python 3",
   "language": "python",
   "name": "python3"
  },
  "language_info": {
   "codemirror_mode": {
    "name": "ipython",
    "version": 3
   },
   "file_extension": ".py",
   "mimetype": "text/x-python",
   "name": "python",
   "nbconvert_exporter": "python",
   "pygments_lexer": "ipython3",
   "version": "3.6.12"
  }
 },
 "nbformat": 4,
 "nbformat_minor": 2
}
