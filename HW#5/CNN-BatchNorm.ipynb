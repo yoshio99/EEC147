{
 "cells": [
  {
   "cell_type": "markdown",
   "metadata": {},
   "source": [
    "## Spatial batch normalization\n",
    "\n",
    "In fully connected networks, we performed batch normalization on the activations.  To do something equivalent on CNNs, we modify batch normalization slightly.  \n",
    "\n",
    "Normally batch-normalization accepts inputs of shape `(N, D)` and produces outputs of shape `(N, D)`, where we normalize across the minibatch dimension `N`. For data coming from convolutional layers, batch normalization accepts inputs of shape `(N, C, H, W)` and produces outputs of shape `(N, C, H, W)` where the `N` dimension gives the minibatch size and the `(H, W)` dimensions give the spatial size of the feature map.\n",
    "\n",
    "How do we calculate the spatial averages?  First, notice that for the `C` feature maps we have (i.e., the layer has `C` filters) that each of these ought to have its own batch norm statistics, since each feature map may be picking out very different features in the images.  However, within a feature map, we may assume that across all inputs and across all locations in the feature map, there ought to be relatively similar first and second order statistics.  Hence, one way to think of spatial batch-normalization is to reshape the `(N, C, H, W)` array as an `(N*H*W, C)` array and perform batch normalization on this array.\n",
    "\n",
    "Since spatial batch norm and batch normalization are similar, it'd be good to at this point also copy and paste our prior implemented layers from HW #4.  Please copy and paste your prior implemented code from HW #4 to start this assignment.  If you did not correctly implement the layers in HW #4, you may collaborate with a classmate to use their implementations from HW #4.  You may also visit TA or Prof OH to correct your implementation.  \n",
    "\n",
    "You'll want to copy and paste from HW #4:\n",
    "    - layers.py for your FC network layers, as well as batchnorm and dropout.\n",
    "    - layer_utils.py for your combined FC network layers.\n",
    "    - optim.py for your optimizers.\n",
    "\n",
    "Be sure to place these in the `nndl/` directory so they're imported correctly.  Note, as announced in class, we will not be releasing our solutions.\n",
    "\n",
    "If you use your prior implementations of the batchnorm, then your spatial batchnorm implementation may be very short.  Our implementations of the forward and backward pass are each 6 lines of code.\n",
    "\n",
    "CS231n has built a solid API for building these modular frameworks and training them, and we will use their very well implemented framework as opposed to \"reinventing the wheel.\"  This includes using their Solver, various utility functions, their layer structure, and their implementation of fast CNN layers.  This also includes nndl.fc_net, nndl.layers, and nndl.layer_utils.  As in prior assignments, we thank Serena Yeung & Justin Johnson for permission to use code written for the CS 231n class (cs231n.stanford.edu).  "
   ]
  },
  {
   "cell_type": "code",
   "execution_count": 1,
   "metadata": {},
   "outputs": [],
   "source": [
    "## Import and setups\n",
    "\n",
    "import time\n",
    "import numpy as np\n",
    "import matplotlib.pyplot as plt\n",
    "from nndl.conv_layers import *\n",
    "from cs231n.data_utils import get_CIFAR10_data\n",
    "from cs231n.gradient_check import eval_numerical_gradient, eval_numerical_gradient_array\n",
    "from cs231n.solver import Solver\n",
    "\n",
    "%matplotlib inline\n",
    "plt.rcParams['figure.figsize'] = (10.0, 8.0) # set default size of plots\n",
    "plt.rcParams['image.interpolation'] = 'nearest'\n",
    "plt.rcParams['image.cmap'] = 'gray'\n",
    "\n",
    "# for auto-reloading external modules\n",
    "# see http://stackoverflow.com/questions/1907993/autoreload-of-modules-in-ipython\n",
    "%load_ext autoreload\n",
    "%autoreload 2\n",
    "\n",
    "def rel_error(x, y):\n",
    "  \"\"\" returns relative error \"\"\"\n",
    "  return np.max(np.abs(x - y) / (np.maximum(1e-8, np.abs(x) + np.abs(y))))"
   ]
  },
  {
   "cell_type": "markdown",
   "metadata": {},
   "source": [
    "## Spatial batch normalization forward pass\n",
    "\n",
    "Implement the forward pass, `spatial_batchnorm_forward` in `nndl/conv_layers.py`.  Test your implementation by running the cell below."
   ]
  },
  {
   "cell_type": "code",
   "execution_count": 11,
   "metadata": {},
   "outputs": [
    {
     "name": "stdout",
     "output_type": "stream",
     "text": [
      "Before spatial batch normalization:\n",
      "  Shape:  (2, 3, 4, 5)\n",
      "  Means:  [ 9.753151   10.82423454  9.77127538]\n",
      "  Stds:  [3.37076004 4.22336317 3.96833945]\n",
      "After spatial batch normalization:\n",
      "  Shape:  (2, 3, 4, 5)\n",
      "  Means:  [-0.10586916  0.18530532 -0.07943615]\n",
      "  Stds:  [0.8539678  1.10764134 0.99599757]\n",
      "After spatial batch normalization (nontrivial gamma, beta):\n",
      "  Shape:  (2, 3, 4, 5)\n",
      "  Means:  [6.42565431 7.65474681 6.91959887]\n",
      "  Stds:  [3.6091084  4.23713294 4.50066387]\n"
     ]
    }
   ],
   "source": [
    "# Check the training-time forward pass by checking means and variances\n",
    "# of features both before and after spatial batch normalization\n",
    "\n",
    "N, C, H, W = 2, 3, 4, 5\n",
    "x = 4 * np.random.randn(N, C, H, W) + 10\n",
    "\n",
    "print('Before spatial batch normalization:')\n",
    "print('  Shape: ', x.shape)\n",
    "print('  Means: ', x.mean(axis=(0, 2, 3)))\n",
    "print('  Stds: ', x.std(axis=(0, 2, 3)))\n",
    "\n",
    "# Means should be close to zero and stds close to one\n",
    "gamma, beta = np.ones(C), np.zeros(C)\n",
    "bn_param = {'mode': 'train'}\n",
    "out, _ = spatial_batchnorm_forward(x, gamma, beta, bn_param)\n",
    "print('After spatial batch normalization:')\n",
    "print('  Shape: ', out.shape)\n",
    "print('  Means: ', out.mean(axis=(0, 2, 3)))\n",
    "print('  Stds: ', out.std(axis=(0, 2, 3)))\n",
    "\n",
    "# Means should be close to beta and stds close to gamma\n",
    "gamma, beta = np.asarray([3, 4, 5]), np.asarray([6, 7, 8])\n",
    "out, _ = spatial_batchnorm_forward(x, gamma, beta, bn_param)\n",
    "print('After spatial batch normalization (nontrivial gamma, beta):')\n",
    "print('  Shape: ', out.shape)\n",
    "print('  Means: ', out.mean(axis=(0, 2, 3)))\n",
    "print('  Stds: ', out.std(axis=(0, 2, 3)))"
   ]
  },
  {
   "cell_type": "markdown",
   "metadata": {},
   "source": [
    "## Spatial batch normalization backward pass\n",
    "\n",
    "Implement the backward pass, `spatial_batchnorm_backward` in `nndl/conv_layers.py`.  Test your implementation by running the cell below."
   ]
  },
  {
   "cell_type": "code",
   "execution_count": 15,
   "metadata": {},
   "outputs": [
    {
     "name": "stdout",
     "output_type": "stream",
     "text": [
      "dx error:  1.79672099205259e-08\n",
      "dgamma error:  5.8397760294831276e-12\n",
      "dbeta error:  2.7060601657019814e-12\n"
     ]
    }
   ],
   "source": [
    "N, C, H, W = 2, 3, 4, 5\n",
    "x = 5 * np.random.randn(N, C, H, W) + 12\n",
    "gamma = np.random.randn(C)\n",
    "beta = np.random.randn(C)\n",
    "dout = np.random.randn(N, C, H, W)\n",
    "\n",
    "bn_param = {'mode': 'train'}\n",
    "fx = lambda x: spatial_batchnorm_forward(x, gamma, beta, bn_param)[0]\n",
    "fg = lambda a: spatial_batchnorm_forward(x, gamma, beta, bn_param)[0]\n",
    "fb = lambda b: spatial_batchnorm_forward(x, gamma, beta, bn_param)[0]\n",
    "\n",
    "dx_num = eval_numerical_gradient_array(fx, x, dout)\n",
    "da_num = eval_numerical_gradient_array(fg, gamma, dout)\n",
    "db_num = eval_numerical_gradient_array(fb, beta, dout)\n",
    "\n",
    "_, cache = spatial_batchnorm_forward(x, gamma, beta, bn_param)\n",
    "dx, dgamma, dbeta = spatial_batchnorm_backward(dout, cache)\n",
    "print('dx error: ', rel_error(dx_num, dx))\n",
    "print('dgamma error: ', rel_error(da_num, dgamma))\n",
    "print('dbeta error: ', rel_error(db_num, dbeta))"
   ]
  },
  {
   "cell_type": "code",
   "execution_count": 1,
   "metadata": {},
   "outputs": [
    {
     "data": {
      "text/plain": [
       "'\\ndef spatial_batchnorm_forward(x, gamma, beta, bn_param):\\n  \"\"\"\\n  Computes the forward pass for spatial batch normalization.\\n  \\n  Inputs:\\n  - x: Input data of shape (N, C, H, W)\\n  - gamma: Scale parameter, of shape (C,)\\n  - beta: Shift parameter, of shape (C,)\\n  - bn_param: Dictionary with the following keys:\\n    - mode: \\'train\\' or \\'test\\'; required\\n    - eps: Constant for numeric stability\\n    - momentum: Constant for running mean / variance. momentum=0 means that\\n      old information is discarded completely at every time step, while\\n      momentum=1 means that new information is never incorporated. The\\n      default of momentum=0.9 should work well in most situations.\\n    - running_mean: Array of shape (D,) giving running mean of features\\n    - running_var Array of shape (D,) giving running variance of features\\n    \\n  Returns a tuple of:\\n  - out: Output data, of shape (N, C, H, W)\\n  - cache: Values needed for the backward pass\\n  \"\"\"\\n  out, cache = None, None\\n\\n  # ================================================================ #\\n  # YOUR CODE HERE:\\n  #   Implement the spatial batchnorm forward pass.\\n  #\\n  #   You may find it useful to use the batchnorm forward pass you \\n  #   implemented in HW #4.\\n  # ================================================================ #\\n  N, C, H, W = x.shape\\n  x_reshape = x.reshape((N*H*W, C))\\n  mode = bn_param[\\'mode\\']\\n  eps = bn_param.get(\\'eps\\', 1e-5)\\n  momentum = bn_param.get(\\'momentum\\', 0.9)\\n  running_mean = bn_param.get(\\'running_mean\\', np.zeros(C, dtype=x_reshape.dtype))\\n  running_var = bn_param.get(\\'running_var\\', np.zeros(C, dtype=x_reshape.dtype))\\n    \\n  sample_mean = x_reshape.mean(axis=0)\\n  sample_var = x_reshape.var(axis=0) + eps\\n  std = np.sqrt(sample_var)\\n  x_hat = (x_reshape - sample_mean) / std\\n  out = gamma * x_hat + beta\\n  running_mean = momentum * running_mean + (1 - momentum) * sample_mean\\n  running_var = momentum * running_var + (1 - momentum) * sample_var\\n  cache = {\\'x\\':x_reshape, \\'mean\\':sample_mean, \\'var\\':sample_var, \\'std\\':std, \\'x_hat\\':x_hat, \\'gamma\\':gamma, \\'beta\\':beta}  \\n  out = out.reshape((N, C, H, W))\\n\\n  # ================================================================ #\\n  # END YOUR CODE HERE\\n  # ================================================================ # \\n\\n  return out, cache\\n\\n\\ndef spatial_batchnorm_backward(dout, cache):\\n  \"\"\"\\n  Computes the backward pass for spatial batch normalization.\\n  \\n  Inputs:\\n  - dout: Upstream derivatives, of shape (N, C, H, W)\\n  - cache: Values from the forward pass\\n  \\n  Returns a tuple of:\\n  - dx: Gradient with respect to inputs, of shape (N, C, H, W)\\n  - dgamma: Gradient with respect to scale parameter, of shape (C,)\\n  - dbeta: Gradient with respect to shift parameter, of shape (C,)\\n  \"\"\"\\n  dx, dgamma, dbeta = None, None, None\\n\\n  # ================================================================ #\\n  # YOUR CODE HERE:\\n  #   Implement the spatial batchnorm backward pass.\\n  #\\n  #   You may find it useful to use the batchnorm backward pass you \\n  #   implemented in HW #4.\\n  # ================================================================ #\\n  N, C, H, W = dout.shape\\n  dout = dout.reshape((N*H*W, C))\\n\\n  dbeta = np.sum(dout, axis=0)\\n  dgamma = np.sum(dout * cache[\\'x_hat\\'], axis=0)\\n    \\n  D = dout.shape[0]\\n  dx_hat = dout * cache[\\'gamma\\']\\n  dsample_var = np.sum((cache[\\'x\\'] - cache[\\'mean\\']) * dx_hat, axis=0) * (-1 / (2 * (cache[\\'var\\'] ** (3/2))))\\n  dsample_mean = -((np.sum(dx_hat, axis=0) / cache[\\'std\\']) + (dsample_var * (2/D) * np.sum(cache[\\'x\\'] - cache[\\'mean\\'], axis = 0)))\\n  dx = (dx_hat / cache[\\'std\\']) + (((2 * (cache[\\'x\\'] - cache[\\'mean\\'])) / D) * dsample_var) + (dsample_mean / D)\\n  dx = dx.reshape((N, C, H, W))\\n\\n  # ================================================================ #\\n  # END YOUR CODE HERE\\n  # ================================================================ # \\n\\n  return dx, dgamma, dbeta\\n'"
      ]
     },
     "execution_count": 1,
     "metadata": {},
     "output_type": "execute_result"
    }
   ],
   "source": [
    "#Below are the relevant code sections for this part\n",
    "'''\n",
    "def spatial_batchnorm_forward(x, gamma, beta, bn_param):\n",
    "  \"\"\"\n",
    "  Computes the forward pass for spatial batch normalization.\n",
    "  \n",
    "  Inputs:\n",
    "  - x: Input data of shape (N, C, H, W)\n",
    "  - gamma: Scale parameter, of shape (C,)\n",
    "  - beta: Shift parameter, of shape (C,)\n",
    "  - bn_param: Dictionary with the following keys:\n",
    "    - mode: 'train' or 'test'; required\n",
    "    - eps: Constant for numeric stability\n",
    "    - momentum: Constant for running mean / variance. momentum=0 means that\n",
    "      old information is discarded completely at every time step, while\n",
    "      momentum=1 means that new information is never incorporated. The\n",
    "      default of momentum=0.9 should work well in most situations.\n",
    "    - running_mean: Array of shape (D,) giving running mean of features\n",
    "    - running_var Array of shape (D,) giving running variance of features\n",
    "    \n",
    "  Returns a tuple of:\n",
    "  - out: Output data, of shape (N, C, H, W)\n",
    "  - cache: Values needed for the backward pass\n",
    "  \"\"\"\n",
    "  out, cache = None, None\n",
    "\n",
    "  # ================================================================ #\n",
    "  # YOUR CODE HERE:\n",
    "  #   Implement the spatial batchnorm forward pass.\n",
    "  #\n",
    "  #   You may find it useful to use the batchnorm forward pass you \n",
    "  #   implemented in HW #4.\n",
    "  # ================================================================ #\n",
    "  N, C, H, W = x.shape\n",
    "  x_reshape = x.reshape((N*H*W, C))\n",
    "  mode = bn_param['mode']\n",
    "  eps = bn_param.get('eps', 1e-5)\n",
    "  momentum = bn_param.get('momentum', 0.9)\n",
    "  running_mean = bn_param.get('running_mean', np.zeros(C, dtype=x_reshape.dtype))\n",
    "  running_var = bn_param.get('running_var', np.zeros(C, dtype=x_reshape.dtype))\n",
    "    \n",
    "  sample_mean = x_reshape.mean(axis=0)\n",
    "  sample_var = x_reshape.var(axis=0) + eps\n",
    "  std = np.sqrt(sample_var)\n",
    "  x_hat = (x_reshape - sample_mean) / std\n",
    "  out = gamma * x_hat + beta\n",
    "  running_mean = momentum * running_mean + (1 - momentum) * sample_mean\n",
    "  running_var = momentum * running_var + (1 - momentum) * sample_var\n",
    "  cache = {'x':x_reshape, 'mean':sample_mean, 'var':sample_var, 'std':std, 'x_hat':x_hat, 'gamma':gamma, 'beta':beta}  \n",
    "  out = out.reshape((N, C, H, W))\n",
    "\n",
    "  # ================================================================ #\n",
    "  # END YOUR CODE HERE\n",
    "  # ================================================================ # \n",
    "\n",
    "  return out, cache\n",
    "\n",
    "\n",
    "def spatial_batchnorm_backward(dout, cache):\n",
    "  \"\"\"\n",
    "  Computes the backward pass for spatial batch normalization.\n",
    "  \n",
    "  Inputs:\n",
    "  - dout: Upstream derivatives, of shape (N, C, H, W)\n",
    "  - cache: Values from the forward pass\n",
    "  \n",
    "  Returns a tuple of:\n",
    "  - dx: Gradient with respect to inputs, of shape (N, C, H, W)\n",
    "  - dgamma: Gradient with respect to scale parameter, of shape (C,)\n",
    "  - dbeta: Gradient with respect to shift parameter, of shape (C,)\n",
    "  \"\"\"\n",
    "  dx, dgamma, dbeta = None, None, None\n",
    "\n",
    "  # ================================================================ #\n",
    "  # YOUR CODE HERE:\n",
    "  #   Implement the spatial batchnorm backward pass.\n",
    "  #\n",
    "  #   You may find it useful to use the batchnorm backward pass you \n",
    "  #   implemented in HW #4.\n",
    "  # ================================================================ #\n",
    "  N, C, H, W = dout.shape\n",
    "  dout = dout.reshape((N*H*W, C))\n",
    "\n",
    "  dbeta = np.sum(dout, axis=0)\n",
    "  dgamma = np.sum(dout * cache['x_hat'], axis=0)\n",
    "    \n",
    "  D = dout.shape[0]\n",
    "  dx_hat = dout * cache['gamma']\n",
    "  dsample_var = np.sum((cache['x'] - cache['mean']) * dx_hat, axis=0) * (-1 / (2 * (cache['var'] ** (3/2))))\n",
    "  dsample_mean = -((np.sum(dx_hat, axis=0) / cache['std']) + (dsample_var * (2/D) * np.sum(cache['x'] - cache['mean'], axis = 0)))\n",
    "  dx = (dx_hat / cache['std']) + (((2 * (cache['x'] - cache['mean'])) / D) * dsample_var) + (dsample_mean / D)\n",
    "  dx = dx.reshape((N, C, H, W))\n",
    "\n",
    "  # ================================================================ #\n",
    "  # END YOUR CODE HERE\n",
    "  # ================================================================ # \n",
    "\n",
    "  return dx, dgamma, dbeta\n",
    "'''"
   ]
  },
  {
   "cell_type": "code",
   "execution_count": null,
   "metadata": {},
   "outputs": [],
   "source": []
  }
 ],
 "metadata": {
  "kernelspec": {
   "display_name": "Python 3",
   "language": "python",
   "name": "python3"
  },
  "language_info": {
   "codemirror_mode": {
    "name": "ipython",
    "version": 3
   },
   "file_extension": ".py",
   "mimetype": "text/x-python",
   "name": "python",
   "nbconvert_exporter": "python",
   "pygments_lexer": "ipython3",
   "version": "3.6.12"
  }
 },
 "nbformat": 4,
 "nbformat_minor": 2
}
